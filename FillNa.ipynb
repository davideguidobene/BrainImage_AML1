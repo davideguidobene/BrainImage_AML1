{
 "cells": [
  {
   "cell_type": "code",
   "execution_count": 1,
   "metadata": {
    "executionInfo": {
     "elapsed": 8,
     "status": "ok",
     "timestamp": 1668182350272,
     "user": {
      "displayName": "Spritz Overflow",
      "userId": "00000537609810394740"
     },
     "user_tz": -60
    },
    "id": "t9IsE1mv7ZGs"
   },
   "outputs": [],
   "source": [
    "import pandas as pd\n",
    "import numpy as np\n",
    "from sklearn.feature_selection import VarianceThreshold\n",
    "from sklearn.impute import KNNImputer\n",
    "from sklearn.feature_selection import SelectKBest, f_regression, chi2, SelectPercentile, mutual_info_regression\n",
    "from sklearn.ensemble import IsolationForest\n",
    "from sklearn.model_selection import train_test_split\n",
    "from sklearn.preprocessing import StandardScaler, MinMaxScaler, RobustScaler"
   ]
  },
  {
   "cell_type": "code",
   "execution_count": 2,
   "metadata": {
    "executionInfo": {
     "elapsed": 6,
     "status": "ok",
     "timestamp": 1668182350272,
     "user": {
      "displayName": "Spritz Overflow",
      "userId": "00000537609810394740"
     },
     "user_tz": -60
    },
    "id": "iSZIlbsX_BWj"
   },
   "outputs": [],
   "source": [
    "folder = \"\"\n",
    "raw = folder + \"raw_data/\"\n",
    "SEED = 4426008 #np.random.randint(2**32)\n",
    "np.random.seed(SEED)"
   ]
  },
  {
   "cell_type": "code",
   "execution_count": 3,
   "metadata": {
    "executionInfo": {
     "elapsed": 5,
     "status": "ok",
     "timestamp": 1668182350272,
     "user": {
      "displayName": "Spritz Overflow",
      "userId": "00000537609810394740"
     },
     "user_tz": -60
    },
    "id": "A8_IpDH8IRH0"
   },
   "outputs": [],
   "source": [
    "def full_X(x_tr = None, x_ts = None):\n",
    "  if x_tr is None:\n",
    "    x_tr = x_train\n",
    "  if x_ts is None:\n",
    "    x_ts = x_test\n",
    "  return pd.concat([x_tr, x_ts], join = \"inner\")"
   ]
  },
  {
   "cell_type": "code",
   "execution_count": 4,
   "metadata": {
    "executionInfo": {
     "elapsed": 1231,
     "status": "ok",
     "timestamp": 1668185537386,
     "user": {
      "displayName": "Spritz Overflow",
      "userId": "00000537609810394740"
     },
     "user_tz": -60
    },
    "id": "u2ZridUsFp2K"
   },
   "outputs": [],
   "source": [
    "just_scoring = False\n",
    "if just_scoring:\n",
    "  folder = folder + \"just_scoring/\"\n",
    "  raw_dataset_x = pd.read_csv(raw + 'X_train.csv',index_col=['id'])\n",
    "  raw_dataset_y = pd.read_csv(raw + 'y_train.csv',index_col=['id'])\n",
    "  x_train, x_test, y_train, y_test = train_test_split(raw_dataset_x, raw_dataset_y, test_size=0.2, random_state = 100)\n",
    "else:\n",
    "  folder = folder + \"testing/\"\n",
    "  x_train = pd.read_csv(raw + 'X_train.csv',index_col=['id'])\n",
    "  x_test = pd.read_csv(raw + 'X_test.csv',index_col=['id'])\n",
    "  y_train = pd.read_csv(raw + 'y_train.csv',index_col=['id'])\n",
    "  y_test = pd.DataFrame({'A' : []})\n",
    "\n",
    "preprocessed = folder + \"nan_filled/\"\n",
    "x_train.columns = [str(col) for col in x_train.columns]\n",
    "x_test.columns = [str(col) for col in x_train.columns]"
   ]
  },
  {
   "cell_type": "code",
   "execution_count": 5,
   "metadata": {},
   "outputs": [
    {
     "name": "stdout",
     "output_type": "stream",
     "text": [
      "Index(['x104', 'x129', 'x489', 'x530'], dtype='object')\n"
     ]
    }
   ],
   "source": [
    "print((x_train.columns[x_train.nunique(dropna = False) <= 2]))\n",
    "x_test = x_test.drop(columns = x_train.columns[x_train.nunique(dropna = False) <= 2])\n",
    "x_train = x_train.drop(columns = x_train.columns[x_train.nunique(dropna = False) <= 2])"
   ]
  },
  {
   "cell_type": "code",
   "execution_count": 6,
   "metadata": {},
   "outputs": [],
   "source": [
    "nans_train = x_train[x_train.columns].isna().astype(int)\n",
    "nans_train = nans_train.add_prefix(\"isnan_\")\n",
    "nans_test = x_test[x_test.columns].isna().astype(int)\n",
    "nans_test = nans_test.add_prefix(\"isnan_\")"
   ]
  },
  {
   "cell_type": "code",
   "execution_count": 7,
   "metadata": {
    "executionInfo": {
     "elapsed": 2,
     "status": "ok",
     "timestamp": 1668185537386,
     "user": {
      "displayName": "Spritz Overflow",
      "userId": "00000537609810394740"
     },
     "user_tz": -60
    },
    "id": "yRW-vnv9BlKy"
   },
   "outputs": [],
   "source": [
    "s = MinMaxScaler()\n",
    "s.fit(full_X())\n",
    "x_train[[col for col in x_train.columns]] = s.transform(x_train)\n",
    "x_test[[col for col in x_train.columns]] = s.transform(x_test)"
   ]
  },
  {
   "cell_type": "code",
   "execution_count": 8,
   "metadata": {},
   "outputs": [],
   "source": [
    "n = full_X().shape[0]\n",
    "imputer = KNNImputer(n_neighbors=np.floor(np.sqrt(n)).astype(int))\n",
    "imputer.fit(np.array(full_X()))\n",
    "x_train_new = pd.DataFrame(imputer.transform(np.array(x_train)), columns = x_train.columns, index = x_train.index)\n",
    "x_test_new = pd.DataFrame(imputer.transform(np.array(x_test)), columns = x_test.columns, index = x_test.index)"
   ]
  },
  {
   "cell_type": "code",
   "execution_count": 9,
   "metadata": {},
   "outputs": [],
   "source": [
    "x_train_new.to_csv(preprocessed + 'X_train_preprocessed.csv',index_label=\"id\")\n",
    "x_test_new.to_csv(preprocessed + 'X_test_preprocessed.csv',index_label=\"id\")\n",
    "y_train.to_csv(preprocessed + 'y_train_preprocessed.csv',index_label=\"id\")\n",
    "y_test.to_csv(preprocessed + 'y_test_preprocessed.csv',index_label=\"id\")"
   ]
  },
  {
   "cell_type": "code",
   "execution_count": 10,
   "metadata": {},
   "outputs": [],
   "source": [
    "nans_train.to_csv(preprocessed + 'nans_train_preprocessed.csv',index_label=\"id\")\n",
    "nans_test.to_csv(preprocessed + 'nans_test_preprocessed.csv',index_label=\"id\")"
   ]
  },
  {
   "cell_type": "code",
   "execution_count": 11,
   "metadata": {},
   "outputs": [
    {
     "data": {
      "text/html": [
       "<div>\n",
       "<style scoped>\n",
       "    .dataframe tbody tr th:only-of-type {\n",
       "        vertical-align: middle;\n",
       "    }\n",
       "\n",
       "    .dataframe tbody tr th {\n",
       "        vertical-align: top;\n",
       "    }\n",
       "\n",
       "    .dataframe thead th {\n",
       "        text-align: right;\n",
       "    }\n",
       "</style>\n",
       "<table border=\"1\" class=\"dataframe\">\n",
       "  <thead>\n",
       "    <tr style=\"text-align: right;\">\n",
       "      <th></th>\n",
       "      <th>x0</th>\n",
       "      <th>x1</th>\n",
       "      <th>x2</th>\n",
       "      <th>x3</th>\n",
       "      <th>x4</th>\n",
       "      <th>x5</th>\n",
       "      <th>x6</th>\n",
       "      <th>x7</th>\n",
       "      <th>x8</th>\n",
       "      <th>x9</th>\n",
       "      <th>...</th>\n",
       "      <th>x822</th>\n",
       "      <th>x823</th>\n",
       "      <th>x824</th>\n",
       "      <th>x825</th>\n",
       "      <th>x826</th>\n",
       "      <th>x827</th>\n",
       "      <th>x828</th>\n",
       "      <th>x829</th>\n",
       "      <th>x830</th>\n",
       "      <th>x831</th>\n",
       "    </tr>\n",
       "    <tr>\n",
       "      <th>id</th>\n",
       "      <th></th>\n",
       "      <th></th>\n",
       "      <th></th>\n",
       "      <th></th>\n",
       "      <th></th>\n",
       "      <th></th>\n",
       "      <th></th>\n",
       "      <th></th>\n",
       "      <th></th>\n",
       "      <th></th>\n",
       "      <th></th>\n",
       "      <th></th>\n",
       "      <th></th>\n",
       "      <th></th>\n",
       "      <th></th>\n",
       "      <th></th>\n",
       "      <th></th>\n",
       "      <th></th>\n",
       "      <th></th>\n",
       "      <th></th>\n",
       "      <th></th>\n",
       "    </tr>\n",
       "  </thead>\n",
       "  <tbody>\n",
       "    <tr>\n",
       "      <th>0.0</th>\n",
       "      <td>0.376913</td>\n",
       "      <td>0.340527</td>\n",
       "      <td>0.388683</td>\n",
       "      <td>0.397810</td>\n",
       "      <td>0.232290</td>\n",
       "      <td>0.372033</td>\n",
       "      <td>0.604670</td>\n",
       "      <td>0.866437</td>\n",
       "      <td>0.837880</td>\n",
       "      <td>0.506089</td>\n",
       "      <td>...</td>\n",
       "      <td>NaN</td>\n",
       "      <td>0.396691</td>\n",
       "      <td>0.478166</td>\n",
       "      <td>0.507531</td>\n",
       "      <td>0.208580</td>\n",
       "      <td>0.322499</td>\n",
       "      <td>0.499217</td>\n",
       "      <td>0.313129</td>\n",
       "      <td>0.007176</td>\n",
       "      <td>0.415996</td>\n",
       "    </tr>\n",
       "    <tr>\n",
       "      <th>1.0</th>\n",
       "      <td>0.535423</td>\n",
       "      <td>NaN</td>\n",
       "      <td>0.596678</td>\n",
       "      <td>0.380005</td>\n",
       "      <td>NaN</td>\n",
       "      <td>0.484857</td>\n",
       "      <td>0.451109</td>\n",
       "      <td>0.826537</td>\n",
       "      <td>0.075816</td>\n",
       "      <td>0.671939</td>\n",
       "      <td>...</td>\n",
       "      <td>NaN</td>\n",
       "      <td>0.581589</td>\n",
       "      <td>0.429065</td>\n",
       "      <td>0.632476</td>\n",
       "      <td>0.343784</td>\n",
       "      <td>0.414930</td>\n",
       "      <td>0.316127</td>\n",
       "      <td>NaN</td>\n",
       "      <td>0.125644</td>\n",
       "      <td>0.769285</td>\n",
       "    </tr>\n",
       "    <tr>\n",
       "      <th>2.0</th>\n",
       "      <td>0.379468</td>\n",
       "      <td>0.387313</td>\n",
       "      <td>NaN</td>\n",
       "      <td>0.815553</td>\n",
       "      <td>0.048442</td>\n",
       "      <td>0.374921</td>\n",
       "      <td>NaN</td>\n",
       "      <td>0.492258</td>\n",
       "      <td>NaN</td>\n",
       "      <td>0.585959</td>\n",
       "      <td>...</td>\n",
       "      <td>0.528820</td>\n",
       "      <td>0.474764</td>\n",
       "      <td>0.401651</td>\n",
       "      <td>0.361905</td>\n",
       "      <td>0.939242</td>\n",
       "      <td>0.458741</td>\n",
       "      <td>0.568061</td>\n",
       "      <td>0.126241</td>\n",
       "      <td>0.487619</td>\n",
       "      <td>0.454439</td>\n",
       "    </tr>\n",
       "    <tr>\n",
       "      <th>3.0</th>\n",
       "      <td>0.138242</td>\n",
       "      <td>0.056309</td>\n",
       "      <td>0.078933</td>\n",
       "      <td>0.480827</td>\n",
       "      <td>0.478381</td>\n",
       "      <td>0.517454</td>\n",
       "      <td>0.456172</td>\n",
       "      <td>0.499437</td>\n",
       "      <td>0.525066</td>\n",
       "      <td>0.487488</td>\n",
       "      <td>...</td>\n",
       "      <td>0.479768</td>\n",
       "      <td>0.101508</td>\n",
       "      <td>0.115183</td>\n",
       "      <td>0.502781</td>\n",
       "      <td>0.481703</td>\n",
       "      <td>0.083695</td>\n",
       "      <td>0.517537</td>\n",
       "      <td>0.147521</td>\n",
       "      <td>0.483087</td>\n",
       "      <td>NaN</td>\n",
       "    </tr>\n",
       "    <tr>\n",
       "      <th>4.0</th>\n",
       "      <td>0.360665</td>\n",
       "      <td>0.590690</td>\n",
       "      <td>0.413108</td>\n",
       "      <td>0.367245</td>\n",
       "      <td>0.369185</td>\n",
       "      <td>0.420949</td>\n",
       "      <td>0.402493</td>\n",
       "      <td>0.750710</td>\n",
       "      <td>0.618902</td>\n",
       "      <td>0.750088</td>\n",
       "      <td>...</td>\n",
       "      <td>0.493124</td>\n",
       "      <td>0.464957</td>\n",
       "      <td>NaN</td>\n",
       "      <td>NaN</td>\n",
       "      <td>0.035203</td>\n",
       "      <td>0.467639</td>\n",
       "      <td>0.504232</td>\n",
       "      <td>0.441124</td>\n",
       "      <td>0.712446</td>\n",
       "      <td>0.435747</td>\n",
       "    </tr>\n",
       "    <tr>\n",
       "      <th>...</th>\n",
       "      <td>...</td>\n",
       "      <td>...</td>\n",
       "      <td>...</td>\n",
       "      <td>...</td>\n",
       "      <td>...</td>\n",
       "      <td>...</td>\n",
       "      <td>...</td>\n",
       "      <td>...</td>\n",
       "      <td>...</td>\n",
       "      <td>...</td>\n",
       "      <td>...</td>\n",
       "      <td>...</td>\n",
       "      <td>...</td>\n",
       "      <td>...</td>\n",
       "      <td>...</td>\n",
       "      <td>...</td>\n",
       "      <td>...</td>\n",
       "      <td>...</td>\n",
       "      <td>...</td>\n",
       "      <td>...</td>\n",
       "      <td>...</td>\n",
       "    </tr>\n",
       "    <tr>\n",
       "      <th>1207.0</th>\n",
       "      <td>0.577408</td>\n",
       "      <td>0.621674</td>\n",
       "      <td>0.513167</td>\n",
       "      <td>0.667672</td>\n",
       "      <td>0.944122</td>\n",
       "      <td>0.452748</td>\n",
       "      <td>0.627851</td>\n",
       "      <td>0.803883</td>\n",
       "      <td>0.950149</td>\n",
       "      <td>NaN</td>\n",
       "      <td>...</td>\n",
       "      <td>0.245364</td>\n",
       "      <td>0.655093</td>\n",
       "      <td>0.609495</td>\n",
       "      <td>0.478265</td>\n",
       "      <td>0.220753</td>\n",
       "      <td>0.565357</td>\n",
       "      <td>0.674835</td>\n",
       "      <td>0.382541</td>\n",
       "      <td>NaN</td>\n",
       "      <td>0.534203</td>\n",
       "    </tr>\n",
       "    <tr>\n",
       "      <th>1208.0</th>\n",
       "      <td>0.506762</td>\n",
       "      <td>0.490724</td>\n",
       "      <td>0.422199</td>\n",
       "      <td>0.453669</td>\n",
       "      <td>0.041064</td>\n",
       "      <td>0.644224</td>\n",
       "      <td>0.593810</td>\n",
       "      <td>0.231647</td>\n",
       "      <td>0.687472</td>\n",
       "      <td>0.507629</td>\n",
       "      <td>...</td>\n",
       "      <td>0.301385</td>\n",
       "      <td>0.510582</td>\n",
       "      <td>0.440283</td>\n",
       "      <td>0.576398</td>\n",
       "      <td>0.984685</td>\n",
       "      <td>0.571372</td>\n",
       "      <td>0.609470</td>\n",
       "      <td>0.498402</td>\n",
       "      <td>0.266925</td>\n",
       "      <td>0.607307</td>\n",
       "    </tr>\n",
       "    <tr>\n",
       "      <th>1209.0</th>\n",
       "      <td>0.381148</td>\n",
       "      <td>0.227847</td>\n",
       "      <td>0.458842</td>\n",
       "      <td>0.501994</td>\n",
       "      <td>0.255628</td>\n",
       "      <td>0.557399</td>\n",
       "      <td>0.331272</td>\n",
       "      <td>0.661750</td>\n",
       "      <td>0.623282</td>\n",
       "      <td>0.493084</td>\n",
       "      <td>...</td>\n",
       "      <td>0.518843</td>\n",
       "      <td>0.534859</td>\n",
       "      <td>0.467641</td>\n",
       "      <td>0.188009</td>\n",
       "      <td>0.164449</td>\n",
       "      <td>0.361495</td>\n",
       "      <td>NaN</td>\n",
       "      <td>0.608798</td>\n",
       "      <td>0.663379</td>\n",
       "      <td>0.563934</td>\n",
       "    </tr>\n",
       "    <tr>\n",
       "      <th>1210.0</th>\n",
       "      <td>0.409525</td>\n",
       "      <td>0.378868</td>\n",
       "      <td>0.347082</td>\n",
       "      <td>0.484229</td>\n",
       "      <td>0.654584</td>\n",
       "      <td>0.249161</td>\n",
       "      <td>0.499143</td>\n",
       "      <td>0.107859</td>\n",
       "      <td>0.384859</td>\n",
       "      <td>0.233449</td>\n",
       "      <td>...</td>\n",
       "      <td>0.525838</td>\n",
       "      <td>0.426689</td>\n",
       "      <td>0.482369</td>\n",
       "      <td>0.304796</td>\n",
       "      <td>0.435848</td>\n",
       "      <td>0.441644</td>\n",
       "      <td>0.517315</td>\n",
       "      <td>0.348779</td>\n",
       "      <td>0.493218</td>\n",
       "      <td>0.643959</td>\n",
       "    </tr>\n",
       "    <tr>\n",
       "      <th>1211.0</th>\n",
       "      <td>0.412569</td>\n",
       "      <td>0.425604</td>\n",
       "      <td>0.333382</td>\n",
       "      <td>0.479742</td>\n",
       "      <td>0.795955</td>\n",
       "      <td>NaN</td>\n",
       "      <td>0.556719</td>\n",
       "      <td>0.726493</td>\n",
       "      <td>0.632400</td>\n",
       "      <td>0.569165</td>\n",
       "      <td>...</td>\n",
       "      <td>0.303627</td>\n",
       "      <td>0.425584</td>\n",
       "      <td>0.529447</td>\n",
       "      <td>0.760323</td>\n",
       "      <td>0.296746</td>\n",
       "      <td>0.418531</td>\n",
       "      <td>0.512465</td>\n",
       "      <td>0.411669</td>\n",
       "      <td>0.882822</td>\n",
       "      <td>0.569866</td>\n",
       "    </tr>\n",
       "  </tbody>\n",
       "</table>\n",
       "<p>1212 rows × 828 columns</p>\n",
       "</div>"
      ],
      "text/plain": [
       "              x0        x1        x2        x3        x4        x5        x6  \\\n",
       "id                                                                             \n",
       "0.0     0.376913  0.340527  0.388683  0.397810  0.232290  0.372033  0.604670   \n",
       "1.0     0.535423       NaN  0.596678  0.380005       NaN  0.484857  0.451109   \n",
       "2.0     0.379468  0.387313       NaN  0.815553  0.048442  0.374921       NaN   \n",
       "3.0     0.138242  0.056309  0.078933  0.480827  0.478381  0.517454  0.456172   \n",
       "4.0     0.360665  0.590690  0.413108  0.367245  0.369185  0.420949  0.402493   \n",
       "...          ...       ...       ...       ...       ...       ...       ...   \n",
       "1207.0  0.577408  0.621674  0.513167  0.667672  0.944122  0.452748  0.627851   \n",
       "1208.0  0.506762  0.490724  0.422199  0.453669  0.041064  0.644224  0.593810   \n",
       "1209.0  0.381148  0.227847  0.458842  0.501994  0.255628  0.557399  0.331272   \n",
       "1210.0  0.409525  0.378868  0.347082  0.484229  0.654584  0.249161  0.499143   \n",
       "1211.0  0.412569  0.425604  0.333382  0.479742  0.795955       NaN  0.556719   \n",
       "\n",
       "              x7        x8        x9  ...      x822      x823      x824  \\\n",
       "id                                    ...                                 \n",
       "0.0     0.866437  0.837880  0.506089  ...       NaN  0.396691  0.478166   \n",
       "1.0     0.826537  0.075816  0.671939  ...       NaN  0.581589  0.429065   \n",
       "2.0     0.492258       NaN  0.585959  ...  0.528820  0.474764  0.401651   \n",
       "3.0     0.499437  0.525066  0.487488  ...  0.479768  0.101508  0.115183   \n",
       "4.0     0.750710  0.618902  0.750088  ...  0.493124  0.464957       NaN   \n",
       "...          ...       ...       ...  ...       ...       ...       ...   \n",
       "1207.0  0.803883  0.950149       NaN  ...  0.245364  0.655093  0.609495   \n",
       "1208.0  0.231647  0.687472  0.507629  ...  0.301385  0.510582  0.440283   \n",
       "1209.0  0.661750  0.623282  0.493084  ...  0.518843  0.534859  0.467641   \n",
       "1210.0  0.107859  0.384859  0.233449  ...  0.525838  0.426689  0.482369   \n",
       "1211.0  0.726493  0.632400  0.569165  ...  0.303627  0.425584  0.529447   \n",
       "\n",
       "            x825      x826      x827      x828      x829      x830      x831  \n",
       "id                                                                            \n",
       "0.0     0.507531  0.208580  0.322499  0.499217  0.313129  0.007176  0.415996  \n",
       "1.0     0.632476  0.343784  0.414930  0.316127       NaN  0.125644  0.769285  \n",
       "2.0     0.361905  0.939242  0.458741  0.568061  0.126241  0.487619  0.454439  \n",
       "3.0     0.502781  0.481703  0.083695  0.517537  0.147521  0.483087       NaN  \n",
       "4.0          NaN  0.035203  0.467639  0.504232  0.441124  0.712446  0.435747  \n",
       "...          ...       ...       ...       ...       ...       ...       ...  \n",
       "1207.0  0.478265  0.220753  0.565357  0.674835  0.382541       NaN  0.534203  \n",
       "1208.0  0.576398  0.984685  0.571372  0.609470  0.498402  0.266925  0.607307  \n",
       "1209.0  0.188009  0.164449  0.361495       NaN  0.608798  0.663379  0.563934  \n",
       "1210.0  0.304796  0.435848  0.441644  0.517315  0.348779  0.493218  0.643959  \n",
       "1211.0  0.760323  0.296746  0.418531  0.512465  0.411669  0.882822  0.569866  \n",
       "\n",
       "[1212 rows x 828 columns]"
      ]
     },
     "execution_count": 11,
     "metadata": {},
     "output_type": "execute_result"
    }
   ],
   "source": [
    "x_train"
   ]
  },
  {
   "cell_type": "code",
   "execution_count": 12,
   "metadata": {
    "colab": {
     "background_save": true,
     "base_uri": "https://localhost:8080/"
    },
    "id": "jxPlwkKdJkNi"
   },
   "outputs": [
    {
     "name": "stdout",
     "output_type": "stream",
     "text": [
      "0\n",
      "1\n",
      "CPU times: total: 1h 42min 48s\n",
      "Wall time: 31min 7s\n"
     ]
    }
   ],
   "source": [
    "%%time\n",
    "# s = RobustScaler()\n",
    "# s.fit(full_X())\n",
    "# x_train[[col for col in x_train.columns]] = s.transform(x_train)\n",
    "# x_test[[col for col in x_train.columns]] = s.transform(x_test)\n",
    "\n",
    "n = x_train.shape[0]\n",
    "m = full_X().shape[0]\n",
    "ks = np.floor(np.array([3, np.sqrt(m)])).astype(int) #np.log(n), np.sqrt(n)/2, \n",
    "results = np.zeros(ks.size)\n",
    "unscaled_results = np.zeros(ks.size)\n",
    "for j, k_nei in enumerate(ks):\n",
    "  print(j)\n",
    "  imputer = KNNImputer(n_neighbors=k_nei)\n",
    "  imputer.fit(np.array(x_train))\n",
    "  #x_train_new = pd.DataFrame(imputer.transform(np.array(x_train)), columns = x_train.columns, index = x_train.index)\n",
    "  #x_test_new = pd.DataFrame(imputer.transform(np.array(x_test)), columns = x_test.columns, index = x_test.index)\n",
    "\n",
    "  result = np.zeros([1, x_test.columns.shape[0]])\n",
    "  for col in x_test.columns:\n",
    "    i = x_test.columns.get_loc(col)\n",
    "    x_test_knn = x_test.copy()\n",
    "    x_test_knn[col] = np.NaN\n",
    "    x_test_knn = pd.DataFrame(imputer.transform(np.array(x_test_knn)), columns = x_test.columns, index = x_test.index)\n",
    "    result[0, i] = (((x_test - x_test_knn)**2)).mean()[col]\n",
    "  s = StandardScaler(with_mean = False)\n",
    "  s.fit(np.array(x_test))\n",
    "  results[j] = np.mean(s.transform(np.array(result)))\n",
    "  unscaled_results[j] = np.mean(result)\n"
   ]
  },
  {
   "cell_type": "code",
   "execution_count": 13,
   "metadata": {
    "colab": {
     "background_save": true
    },
    "id": "S8VvGBP0l6JB"
   },
   "outputs": [
    {
     "data": {
      "image/png": "[encoded data removed]",
      "text/plain": [
       "<Figure size 640x480 with 1 Axes>"
      ]
     },
     "metadata": {},
     "output_type": "display_data"
    },
    {
     "data": {
      "image/png": "[encoded data removed]",
      "text/plain": [
       "<Figure size 640x480 with 1 Axes>"
      ]
     },
     "metadata": {},
     "output_type": "display_data"
    },
    {
     "name": "stdout",
     "output_type": "stream",
     "text": [
      "[0.75486828 0.60104642]\n",
      "[0.54313646 0.43745516]\n",
      "[ 3 44]\n"
     ]
    }
   ],
   "source": [
    "import matplotlib.pyplot as plt\n",
    "plt.plot(results)\n",
    "plt.show()\n",
    "plt.plot(unscaled_results)\n",
    "plt.show()\n",
    "print(results)\n",
    "print(unscaled_results)\n",
    "print(ks)"
   ]
  },
  {
   "cell_type": "code",
   "execution_count": 14,
   "metadata": {
    "colab": {
     "background_save": true
    },
    "id": "b1CoGEPTltAN"
   },
   "outputs": [],
   "source": [
    "# def mylambda(_ = None, xscx = None, sxsdc=None, col=None):\n",
    "#   #print(col)\n",
    "#   i = x_test.columns.get_loc(col)\n",
    "#   x_test_knn = x_test.copy()\n",
    "#   x_test_knn[col] = np.NaN\n",
    "#   x_test_knn = pd.DataFrame(imputer.transform(np.array(x_test_knn)), columns = x_test.columns, index = x_test.index)\n",
    "#   result[0, i] = (((x_test - x_test_new)**2)).mean()[col]\n",
    "#   #print(i)\n",
    "\n",
    "# # result = np.empty([1, x_test.columns.shape[0]])\n",
    "# # [x_test.apply(mylambda, col=coli) for coli in x_test.columns]"
   ]
  }
 ],
 "metadata": {
  "colab": {
   "name": "",
   "version": ""
  },
  "kernelspec": {
   "display_name": "Python 3 (ipykernel)",
   "language": "python",
   "name": "python3"
  },
  "language_info": {
   "codemirror_mode": {
    "name": "ipython",
    "version": 3
   },
   "file_extension": ".py",
   "mimetype": "text/x-python",
   "name": "python",
   "nbconvert_exporter": "python",
   "pygments_lexer": "ipython3",
   "version": "3.8.13"
  }
 },
 "nbformat": 4,
 "nbformat_minor": 1
}
