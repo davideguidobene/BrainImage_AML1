{
 "cells": [
  {
   "cell_type": "code",
   "execution_count": 211,
   "metadata": {
    "colab": {
     "base_uri": "https://localhost:8080/"
    },
    "executionInfo": {
     "elapsed": 2234,
     "status": "ok",
     "timestamp": 1667738747075,
     "user": {
      "displayName": "Davide",
      "userId": "07926258312875750976"
     },
     "user_tz": -60
    },
    "id": "Ob8A9u-v0sCb",
    "outputId": "a9c2cb38-1adb-4486-f4d0-c8c1b298afc8"
   },
   "outputs": [
    {
     "name": "stdout",
     "output_type": "stream",
     "text": [
      "Drive already mounted at /content/drive; to attempt to forcibly remount, call drive.mount(\"/content/drive\", force_remount=True).\n"
     ]
    }
   ],
   "source": [
    "from google.colab import drive\n",
    "drive.mount('/content/drive')"
   ]
  },
  {
   "cell_type": "code",
   "execution_count": 212,
   "metadata": {
    "colab": {
     "base_uri": "https://localhost:8080/"
    },
    "executionInfo": {
     "elapsed": 3508,
     "status": "ok",
     "timestamp": 1667738750578,
     "user": {
      "displayName": "Davide",
      "userId": "07926258312875750976"
     },
     "user_tz": -60
    },
    "id": "oR5mmOcUy9cz",
    "outputId": "fea537e4-4230-4c4d-93c7-01ca1ff47aa4"
   },
   "outputs": [
    {
     "name": "stdout",
     "output_type": "stream",
     "text": [
      "Looking in indexes: https://pypi.org/simple, https://us-python.pkg.dev/colab-wheels/public/simple/\n",
      "Requirement already satisfied: autofeat in /usr/local/lib/python3.7/dist-packages (2.0.10)\n",
      "Requirement already satisfied: scikit-learn in /usr/local/lib/python3.7/dist-packages (from autofeat) (1.0.2)\n",
      "Requirement already satisfied: future in /usr/local/lib/python3.7/dist-packages (from autofeat) (0.16.0)\n",
      "Requirement already satisfied: numba in /usr/local/lib/python3.7/dist-packages (from autofeat) (0.56.3)\n",
      "Requirement already satisfied: pint in /usr/local/lib/python3.7/dist-packages (from autofeat) (0.18)\n",
      "Requirement already satisfied: sympy>=1.7.1 in /usr/local/lib/python3.7/dist-packages (from autofeat) (1.7.1)\n",
      "Requirement already satisfied: numpy in /usr/local/lib/python3.7/dist-packages (from autofeat) (1.21.6)\n",
      "Requirement already satisfied: pandas>=0.24.0 in /usr/local/lib/python3.7/dist-packages (from autofeat) (1.3.5)\n",
      "Requirement already satisfied: joblib in /usr/local/lib/python3.7/dist-packages (from autofeat) (1.2.0)\n",
      "Requirement already satisfied: pytz>=2017.3 in /usr/local/lib/python3.7/dist-packages (from pandas>=0.24.0->autofeat) (2022.5)\n",
      "Requirement already satisfied: python-dateutil>=2.7.3 in /usr/local/lib/python3.7/dist-packages (from pandas>=0.24.0->autofeat) (2.8.2)\n",
      "Requirement already satisfied: six>=1.5 in /usr/local/lib/python3.7/dist-packages (from python-dateutil>=2.7.3->pandas>=0.24.0->autofeat) (1.15.0)\n",
      "Requirement already satisfied: mpmath>=0.19 in /usr/local/lib/python3.7/dist-packages (from sympy>=1.7.1->autofeat) (1.2.1)\n",
      "Requirement already satisfied: llvmlite<0.40,>=0.39.0dev0 in /usr/local/lib/python3.7/dist-packages (from numba->autofeat) (0.39.1)\n",
      "Requirement already satisfied: setuptools in /usr/local/lib/python3.7/dist-packages (from numba->autofeat) (57.4.0)\n",
      "Requirement already satisfied: importlib-metadata in /usr/local/lib/python3.7/dist-packages (from numba->autofeat) (4.13.0)\n",
      "Requirement already satisfied: zipp>=0.5 in /usr/local/lib/python3.7/dist-packages (from importlib-metadata->numba->autofeat) (3.10.0)\n",
      "Requirement already satisfied: typing-extensions>=3.6.4 in /usr/local/lib/python3.7/dist-packages (from importlib-metadata->numba->autofeat) (4.1.1)\n",
      "Requirement already satisfied: packaging in /usr/local/lib/python3.7/dist-packages (from pint->autofeat) (21.3)\n",
      "Requirement already satisfied: pyparsing!=3.0.5,>=2.0.2 in /usr/local/lib/python3.7/dist-packages (from packaging->pint->autofeat) (3.0.9)\n",
      "Requirement already satisfied: scipy>=1.1.0 in /usr/local/lib/python3.7/dist-packages (from scikit-learn->autofeat) (1.7.3)\n",
      "Requirement already satisfied: threadpoolctl>=2.0.0 in /usr/local/lib/python3.7/dist-packages (from scikit-learn->autofeat) (3.1.0)\n"
     ]
    }
   ],
   "source": [
    "!pip install autofeat"
   ]
  },
  {
   "cell_type": "markdown",
   "metadata": {
    "id": "L3-8_cz60z3j"
   },
   "source": [
    "CTRL + F10"
   ]
  },
  {
   "cell_type": "code",
   "execution_count": 1,
   "metadata": {
    "executionInfo": {
     "elapsed": 10,
     "status": "ok",
     "timestamp": 1667738750579,
     "user": {
      "displayName": "Davide",
      "userId": "07926258312875750976"
     },
     "user_tz": -60
    },
    "id": "5pLjlPgWyPcG"
   },
   "outputs": [],
   "source": [
    "import pandas as pd\n",
    "import numpy as np\n",
    "from sklearn.feature_selection import VarianceThreshold\n",
    "from sklearn.impute import KNNImputer\n",
    "from sklearn.feature_selection import SelectKBest, f_regression\n",
    "from sklearn.ensemble import IsolationForest\n",
    "from sklearn.model_selection import train_test_split\n",
    "from sklearn.preprocessing import StandardScaler"
   ]
  },
  {
   "cell_type": "code",
   "execution_count": 2,
   "metadata": {
    "executionInfo": {
     "elapsed": 8,
     "status": "ok",
     "timestamp": 1667738750579,
     "user": {
      "displayName": "Davide",
      "userId": "07926258312875750976"
     },
     "user_tz": -60
    },
    "id": "sdcCocJzyWWf"
   },
   "outputs": [],
   "source": [
    "folder = ''#\"drive/MyDrive/AML_Pr_1/\"\n",
    "raw = folder + \"raw_data/\""
   ]
  },
  {
   "cell_type": "code",
   "execution_count": 3,
   "metadata": {
    "colab": {
     "base_uri": "https://localhost:8080/",
     "height": 331
    },
    "executionInfo": {
     "elapsed": 477,
     "status": "ok",
     "timestamp": 1667738751049,
     "user": {
      "displayName": "Davide",
      "userId": "07926258312875750976"
     },
     "user_tz": -60
    },
    "id": "nnpLp1MPyPcJ",
    "outputId": "0045e7b4-d22f-442e-fdba-84fbc2476e8d"
   },
   "outputs": [
    {
     "data": {
      "text/html": [
       "<div>\n",
       "<style scoped>\n",
       "    .dataframe tbody tr th:only-of-type {\n",
       "        vertical-align: middle;\n",
       "    }\n",
       "\n",
       "    .dataframe tbody tr th {\n",
       "        vertical-align: top;\n",
       "    }\n",
       "\n",
       "    .dataframe thead th {\n",
       "        text-align: right;\n",
       "    }\n",
       "</style>\n",
       "<table border=\"1\" class=\"dataframe\">\n",
       "  <thead>\n",
       "    <tr style=\"text-align: right;\">\n",
       "      <th></th>\n",
       "      <th>x0</th>\n",
       "      <th>x1</th>\n",
       "      <th>x2</th>\n",
       "      <th>x3</th>\n",
       "      <th>x4</th>\n",
       "      <th>x5</th>\n",
       "      <th>x6</th>\n",
       "      <th>x7</th>\n",
       "      <th>x8</th>\n",
       "      <th>x9</th>\n",
       "      <th>...</th>\n",
       "      <th>x822</th>\n",
       "      <th>x823</th>\n",
       "      <th>x824</th>\n",
       "      <th>x825</th>\n",
       "      <th>x826</th>\n",
       "      <th>x827</th>\n",
       "      <th>x828</th>\n",
       "      <th>x829</th>\n",
       "      <th>x830</th>\n",
       "      <th>x831</th>\n",
       "    </tr>\n",
       "    <tr>\n",
       "      <th>id</th>\n",
       "      <th></th>\n",
       "      <th></th>\n",
       "      <th></th>\n",
       "      <th></th>\n",
       "      <th></th>\n",
       "      <th></th>\n",
       "      <th></th>\n",
       "      <th></th>\n",
       "      <th></th>\n",
       "      <th></th>\n",
       "      <th></th>\n",
       "      <th></th>\n",
       "      <th></th>\n",
       "      <th></th>\n",
       "      <th></th>\n",
       "      <th></th>\n",
       "      <th></th>\n",
       "      <th></th>\n",
       "      <th></th>\n",
       "      <th></th>\n",
       "      <th></th>\n",
       "    </tr>\n",
       "  </thead>\n",
       "  <tbody>\n",
       "    <tr>\n",
       "      <th>0.0</th>\n",
       "      <td>14168.823171</td>\n",
       "      <td>10514.380717</td>\n",
       "      <td>3316.149698</td>\n",
       "      <td>94230.695124</td>\n",
       "      <td>102.386606</td>\n",
       "      <td>92.677127</td>\n",
       "      <td>11108.748199</td>\n",
       "      <td>10866.505510</td>\n",
       "      <td>10837.622093</td>\n",
       "      <td>10.227734</td>\n",
       "      <td>...</td>\n",
       "      <td>NaN</td>\n",
       "      <td>12352.094085</td>\n",
       "      <td>846.014651</td>\n",
       "      <td>105.132144</td>\n",
       "      <td>102.112809</td>\n",
       "      <td>2090.004260</td>\n",
       "      <td>2.691845</td>\n",
       "      <td>1234.374109</td>\n",
       "      <td>1000.784475</td>\n",
       "      <td>9285.751272</td>\n",
       "    </tr>\n",
       "    <tr>\n",
       "      <th>1.0</th>\n",
       "      <td>17757.037554</td>\n",
       "      <td>NaN</td>\n",
       "      <td>4101.016273</td>\n",
       "      <td>92959.527633</td>\n",
       "      <td>NaN</td>\n",
       "      <td>99.855168</td>\n",
       "      <td>10013.959449</td>\n",
       "      <td>10826.607494</td>\n",
       "      <td>10076.101597</td>\n",
       "      <td>11.436970</td>\n",
       "      <td>...</td>\n",
       "      <td>NaN</td>\n",
       "      <td>16198.071494</td>\n",
       "      <td>776.084467</td>\n",
       "      <td>106.385590</td>\n",
       "      <td>103.472030</td>\n",
       "      <td>2474.051881</td>\n",
       "      <td>2.287976</td>\n",
       "      <td>NaN</td>\n",
       "      <td>1012.626705</td>\n",
       "      <td>11750.284764</td>\n",
       "    </tr>\n",
       "    <tr>\n",
       "      <th>2.0</th>\n",
       "      <td>14226.656663</td>\n",
       "      <td>11029.642499</td>\n",
       "      <td>NaN</td>\n",
       "      <td>124055.600561</td>\n",
       "      <td>100.542483</td>\n",
       "      <td>92.860892</td>\n",
       "      <td>NaN</td>\n",
       "      <td>10492.342868</td>\n",
       "      <td>NaN</td>\n",
       "      <td>10.810076</td>\n",
       "      <td>...</td>\n",
       "      <td>10329.704431</td>\n",
       "      <td>13976.063780</td>\n",
       "      <td>737.040332</td>\n",
       "      <td>103.671234</td>\n",
       "      <td>109.458246</td>\n",
       "      <td>2656.083281</td>\n",
       "      <td>2.843706</td>\n",
       "      <td>888.353607</td>\n",
       "      <td>1048.810385</td>\n",
       "      <td>9553.922728</td>\n",
       "    </tr>\n",
       "    <tr>\n",
       "      <th>3.0</th>\n",
       "      <td>8766.012436</td>\n",
       "      <td>7384.202998</td>\n",
       "      <td>2147.308418</td>\n",
       "      <td>100157.719990</td>\n",
       "      <td>104.855061</td>\n",
       "      <td>101.929026</td>\n",
       "      <td>10050.049932</td>\n",
       "      <td>10499.521099</td>\n",
       "      <td>10525.030989</td>\n",
       "      <td>10.092109</td>\n",
       "      <td>...</td>\n",
       "      <td>10008.251395</td>\n",
       "      <td>6212.127347</td>\n",
       "      <td>329.044233</td>\n",
       "      <td>105.084488</td>\n",
       "      <td>104.858546</td>\n",
       "      <td>1097.785204</td>\n",
       "      <td>2.732257</td>\n",
       "      <td>927.752967</td>\n",
       "      <td>1048.357330</td>\n",
       "      <td>NaN</td>\n",
       "    </tr>\n",
       "    <tr>\n",
       "      <th>4.0</th>\n",
       "      <td>13801.016418</td>\n",
       "      <td>13269.493652</td>\n",
       "      <td>3408.316953</td>\n",
       "      <td>92048.527786</td>\n",
       "      <td>103.759758</td>\n",
       "      <td>95.789235</td>\n",
       "      <td>9667.353978</td>\n",
       "      <td>10750.783106</td>\n",
       "      <td>10618.800750</td>\n",
       "      <td>12.006773</td>\n",
       "      <td>...</td>\n",
       "      <td>10095.782015</td>\n",
       "      <td>13772.061493</td>\n",
       "      <td>NaN</td>\n",
       "      <td>NaN</td>\n",
       "      <td>100.369834</td>\n",
       "      <td>2693.053231</td>\n",
       "      <td>2.702908</td>\n",
       "      <td>1471.354073</td>\n",
       "      <td>1071.284484</td>\n",
       "      <td>9423.533063</td>\n",
       "    </tr>\n",
       "  </tbody>\n",
       "</table>\n",
       "<p>5 rows × 832 columns</p>\n",
       "</div>"
      ],
      "text/plain": [
       "               x0            x1           x2             x3          x4  \\\n",
       "id                                                                        \n",
       "0.0  14168.823171  10514.380717  3316.149698   94230.695124  102.386606   \n",
       "1.0  17757.037554           NaN  4101.016273   92959.527633         NaN   \n",
       "2.0  14226.656663  11029.642499          NaN  124055.600561  100.542483   \n",
       "3.0   8766.012436   7384.202998  2147.308418  100157.719990  104.855061   \n",
       "4.0  13801.016418  13269.493652  3408.316953   92048.527786  103.759758   \n",
       "\n",
       "             x5            x6            x7            x8         x9  ...  \\\n",
       "id                                                                    ...   \n",
       "0.0   92.677127  11108.748199  10866.505510  10837.622093  10.227734  ...   \n",
       "1.0   99.855168  10013.959449  10826.607494  10076.101597  11.436970  ...   \n",
       "2.0   92.860892           NaN  10492.342868           NaN  10.810076  ...   \n",
       "3.0  101.929026  10050.049932  10499.521099  10525.030989  10.092109  ...   \n",
       "4.0   95.789235   9667.353978  10750.783106  10618.800750  12.006773  ...   \n",
       "\n",
       "             x822          x823        x824        x825        x826  \\\n",
       "id                                                                    \n",
       "0.0           NaN  12352.094085  846.014651  105.132144  102.112809   \n",
       "1.0           NaN  16198.071494  776.084467  106.385590  103.472030   \n",
       "2.0  10329.704431  13976.063780  737.040332  103.671234  109.458246   \n",
       "3.0  10008.251395   6212.127347  329.044233  105.084488  104.858546   \n",
       "4.0  10095.782015  13772.061493         NaN         NaN  100.369834   \n",
       "\n",
       "            x827      x828         x829         x830          x831  \n",
       "id                                                                  \n",
       "0.0  2090.004260  2.691845  1234.374109  1000.784475   9285.751272  \n",
       "1.0  2474.051881  2.287976          NaN  1012.626705  11750.284764  \n",
       "2.0  2656.083281  2.843706   888.353607  1048.810385   9553.922728  \n",
       "3.0  1097.785204  2.732257   927.752967  1048.357330           NaN  \n",
       "4.0  2693.053231  2.702908  1471.354073  1071.284484   9423.533063  \n",
       "\n",
       "[5 rows x 832 columns]"
      ]
     },
     "execution_count": 3,
     "metadata": {},
     "output_type": "execute_result"
    }
   ],
   "source": [
    "raw_dataset_x = pd.read_csv(raw + 'X_train.csv',index_col=['id'])\n",
    "#X = raw_dataset_x.copy()\n",
    "raw_dataset_x.head()"
   ]
  },
  {
   "cell_type": "code",
   "execution_count": 4,
   "metadata": {
    "colab": {
     "base_uri": "https://localhost:8080/",
     "height": 237
    },
    "executionInfo": {
     "elapsed": 13,
     "status": "ok",
     "timestamp": 1667738751050,
     "user": {
      "displayName": "Davide",
      "userId": "07926258312875750976"
     },
     "user_tz": -60
    },
    "id": "0GPabMm3yPcJ",
    "outputId": "80523fa1-d44f-4c43-8575-339688f3ac76"
   },
   "outputs": [
    {
     "data": {
      "text/html": [
       "<div>\n",
       "<style scoped>\n",
       "    .dataframe tbody tr th:only-of-type {\n",
       "        vertical-align: middle;\n",
       "    }\n",
       "\n",
       "    .dataframe tbody tr th {\n",
       "        vertical-align: top;\n",
       "    }\n",
       "\n",
       "    .dataframe thead th {\n",
       "        text-align: right;\n",
       "    }\n",
       "</style>\n",
       "<table border=\"1\" class=\"dataframe\">\n",
       "  <thead>\n",
       "    <tr style=\"text-align: right;\">\n",
       "      <th></th>\n",
       "      <th>y</th>\n",
       "    </tr>\n",
       "    <tr>\n",
       "      <th>id</th>\n",
       "      <th></th>\n",
       "    </tr>\n",
       "  </thead>\n",
       "  <tbody>\n",
       "    <tr>\n",
       "      <th>0.0</th>\n",
       "      <td>74.0</td>\n",
       "    </tr>\n",
       "    <tr>\n",
       "      <th>1.0</th>\n",
       "      <td>51.0</td>\n",
       "    </tr>\n",
       "    <tr>\n",
       "      <th>2.0</th>\n",
       "      <td>70.0</td>\n",
       "    </tr>\n",
       "    <tr>\n",
       "      <th>3.0</th>\n",
       "      <td>52.0</td>\n",
       "    </tr>\n",
       "    <tr>\n",
       "      <th>4.0</th>\n",
       "      <td>85.0</td>\n",
       "    </tr>\n",
       "  </tbody>\n",
       "</table>\n",
       "</div>"
      ],
      "text/plain": [
       "        y\n",
       "id       \n",
       "0.0  74.0\n",
       "1.0  51.0\n",
       "2.0  70.0\n",
       "3.0  52.0\n",
       "4.0  85.0"
      ]
     },
     "execution_count": 4,
     "metadata": {},
     "output_type": "execute_result"
    }
   ],
   "source": [
    "raw_dataset_y = pd.read_csv(raw + 'y_train.csv',index_col=['id'])\n",
    "#y = raw_dataset_y.copy()\n",
    "raw_dataset_y.head()"
   ]
  },
  {
   "cell_type": "code",
   "execution_count": 5,
   "metadata": {
    "executionInfo": {
     "elapsed": 660,
     "status": "ok",
     "timestamp": 1667738751699,
     "user": {
      "displayName": "Davide",
      "userId": "07926258312875750976"
     },
     "user_tz": -60
    },
    "id": "tTuroQaL3xTN"
   },
   "outputs": [],
   "source": [
    "just_scoring = False\n",
    "if just_scoring:\n",
    "  preprocessed = folder + \"preprocessed_data/\"\n",
    "  x_train, x_test, y_train, y_test = train_test_split(raw_dataset_x, raw_dataset_y, test_size=0.2, random_state = 100)\n",
    "else:\n",
    "  preprocessed = folder + \"ready_data/\"\n",
    "  x_train = pd.read_csv(raw + 'X_train.csv',index_col=['id'])\n",
    "  x_test = pd.read_csv(raw + 'X_test.csv',index_col=['id'])\n",
    "  y_train = pd.read_csv(raw + 'y_train.csv',index_col=['id'])\n",
    "  y_test = pd.DataFrame({'A' : []})"
   ]
  },
  {
   "cell_type": "code",
   "execution_count": 6,
   "metadata": {
    "colab": {
     "base_uri": "https://localhost:8080/"
    },
    "executionInfo": {
     "elapsed": 394,
     "status": "ok",
     "timestamp": 1667738752087,
     "user": {
      "displayName": "Davide",
      "userId": "07926258312875750976"
     },
     "user_tz": -60
    },
    "id": "u1iv8bwOyPcL",
    "outputId": "3c9cbc2b-d748-4967-c70e-25884b8c031b"
   },
   "outputs": [
    {
     "data": {
      "text/plain": [
       "x0       91\n",
       "x1       84\n",
       "x2       88\n",
       "x3       91\n",
       "x4       74\n",
       "       ... \n",
       "x827    101\n",
       "x828     95\n",
       "x829     92\n",
       "x830     80\n",
       "x831     96\n",
       "Length: 832, dtype: int64"
      ]
     },
     "execution_count": 6,
     "metadata": {},
     "output_type": "execute_result"
    }
   ],
   "source": [
    "missing_values = x_train.isna().sum()\n",
    "missing_values"
   ]
  },
  {
   "cell_type": "code",
   "execution_count": 7,
   "metadata": {
    "colab": {
     "base_uri": "https://localhost:8080/"
    },
    "executionInfo": {
     "elapsed": 17,
     "status": "ok",
     "timestamp": 1667738752088,
     "user": {
      "displayName": "Davide",
      "userId": "07926258312875750976"
     },
     "user_tz": -60
    },
    "id": "YkxsoGC1yPcL",
    "outputId": "859aeca7-072e-428d-fc96-d574e56452dc"
   },
   "outputs": [
    {
     "name": "stdout",
     "output_type": "stream",
     "text": [
      "x104   [ 0. nan]\n",
      "x129   [ 0. nan]\n",
      "x489   [ 0. nan]\n",
      "x530   [ 0. nan]\n"
     ]
    }
   ],
   "source": [
    "for col in x_train.columns[x_train.nunique(dropna = False) <= 100]:\n",
    "    print(col, \" \", x_train[col].unique())"
   ]
  },
  {
   "cell_type": "code",
   "execution_count": 8,
   "metadata": {
    "executionInfo": {
     "elapsed": 13,
     "status": "ok",
     "timestamp": 1667738752089,
     "user": {
      "displayName": "Davide",
      "userId": "07926258312875750976"
     },
     "user_tz": -60
    },
    "id": "7Tx-z3x4yPcM"
   },
   "outputs": [],
   "source": [
    "x_test = x_test.drop(columns = x_train.columns[x_train.nunique(dropna = False) <= 100])\n",
    "x_train = x_train.drop(columns = x_train.columns[x_train.nunique(dropna = False) <= 100])"
   ]
  },
  {
   "cell_type": "code",
   "execution_count": 9,
   "metadata": {
    "colab": {
     "base_uri": "https://localhost:8080/"
    },
    "executionInfo": {
     "elapsed": 12,
     "status": "ok",
     "timestamp": 1667738752089,
     "user": {
      "displayName": "Davide",
      "userId": "07926258312875750976"
     },
     "user_tz": -60
    },
    "id": "VRlzmHA1yPcM",
    "outputId": "7c2350f0-202f-4d27-ab99-e3cd09cfc0d7"
   },
   "outputs": [
    {
     "data": {
      "text/plain": [
       "id\n",
       "867.0     89\n",
       "430.0     87\n",
       "794.0     86\n",
       "565.0     85\n",
       "900.0     85\n",
       "          ..\n",
       "627.0     43\n",
       "173.0     43\n",
       "1038.0    40\n",
       "268.0     39\n",
       "582.0     37\n",
       "Length: 1212, dtype: int64"
      ]
     },
     "execution_count": 9,
     "metadata": {},
     "output_type": "execute_result"
    }
   ],
   "source": [
    "x_train.isnull().sum(1).sort_values(ascending=False)"
   ]
  },
  {
   "cell_type": "code",
   "execution_count": 10,
   "metadata": {
    "executionInfo": {
     "elapsed": 8,
     "status": "ok",
     "timestamp": 1667738752090,
     "user": {
      "displayName": "Davide",
      "userId": "07926258312875750976"
     },
     "user_tz": -60
    },
    "id": "nUJS-Zc-zxmV"
   },
   "outputs": [],
   "source": [
    "nans_train = x_train[x_train.columns].isna().astype(int)\n",
    "nans_train = nans_train.add_prefix(\"isnan_\")\n",
    "nans_test = x_test[x_test.columns].isna().astype(int)\n",
    "nans_test = nans_test.add_prefix(\"isnan_\")"
   ]
  },
  {
   "cell_type": "code",
   "execution_count": 11,
   "metadata": {
    "executionInfo": {
     "elapsed": 14188,
     "status": "ok",
     "timestamp": 1667738766271,
     "user": {
      "displayName": "Davide",
      "userId": "07926258312875750976"
     },
     "user_tz": -60
    },
    "id": "TJM737GsyPcM"
   },
   "outputs": [],
   "source": [
    "#X = X.fillna(X.mean())\n",
    "imputer = KNNImputer(n_neighbors=3)\n",
    "x_train = pd.DataFrame(imputer.fit_transform(x_train, y_train), columns = x_train.columns, index = x_train.index)\n",
    "x_test = pd.DataFrame(imputer.transform(x_test), columns = x_test.columns, index = x_test.index)"
   ]
  },
  {
   "cell_type": "code",
   "execution_count": 12,
   "metadata": {
    "colab": {
     "base_uri": "https://localhost:8080/",
     "height": 519
    },
    "executionInfo": {
     "elapsed": 16,
     "status": "ok",
     "timestamp": 1667738766276,
     "user": {
      "displayName": "Davide",
      "userId": "07926258312875750976"
     },
     "user_tz": -60
    },
    "id": "p82kw9pW4G3d",
    "outputId": "77e20cca-6a55-4ffe-dac8-3306f1889873"
   },
   "outputs": [
    {
     "data": {
      "text/html": [
       "<div>\n",
       "<style scoped>\n",
       "    .dataframe tbody tr th:only-of-type {\n",
       "        vertical-align: middle;\n",
       "    }\n",
       "\n",
       "    .dataframe tbody tr th {\n",
       "        vertical-align: top;\n",
       "    }\n",
       "\n",
       "    .dataframe thead th {\n",
       "        text-align: right;\n",
       "    }\n",
       "</style>\n",
       "<table border=\"1\" class=\"dataframe\">\n",
       "  <thead>\n",
       "    <tr style=\"text-align: right;\">\n",
       "      <th></th>\n",
       "      <th>x0</th>\n",
       "      <th>x1</th>\n",
       "      <th>x2</th>\n",
       "      <th>x3</th>\n",
       "      <th>x4</th>\n",
       "      <th>x5</th>\n",
       "      <th>x6</th>\n",
       "      <th>x7</th>\n",
       "      <th>x8</th>\n",
       "      <th>x9</th>\n",
       "      <th>...</th>\n",
       "      <th>isnan_x822</th>\n",
       "      <th>isnan_x823</th>\n",
       "      <th>isnan_x824</th>\n",
       "      <th>isnan_x825</th>\n",
       "      <th>isnan_x826</th>\n",
       "      <th>isnan_x827</th>\n",
       "      <th>isnan_x828</th>\n",
       "      <th>isnan_x829</th>\n",
       "      <th>isnan_x830</th>\n",
       "      <th>isnan_x831</th>\n",
       "    </tr>\n",
       "    <tr>\n",
       "      <th>id</th>\n",
       "      <th></th>\n",
       "      <th></th>\n",
       "      <th></th>\n",
       "      <th></th>\n",
       "      <th></th>\n",
       "      <th></th>\n",
       "      <th></th>\n",
       "      <th></th>\n",
       "      <th></th>\n",
       "      <th></th>\n",
       "      <th></th>\n",
       "      <th></th>\n",
       "      <th></th>\n",
       "      <th></th>\n",
       "      <th></th>\n",
       "      <th></th>\n",
       "      <th></th>\n",
       "      <th></th>\n",
       "      <th></th>\n",
       "      <th></th>\n",
       "      <th></th>\n",
       "    </tr>\n",
       "  </thead>\n",
       "  <tbody>\n",
       "    <tr>\n",
       "      <th>0.0</th>\n",
       "      <td>14168.823171</td>\n",
       "      <td>10514.380717</td>\n",
       "      <td>3316.149698</td>\n",
       "      <td>94230.695124</td>\n",
       "      <td>102.386606</td>\n",
       "      <td>92.677127</td>\n",
       "      <td>11108.748199</td>\n",
       "      <td>10866.505510</td>\n",
       "      <td>10837.622093</td>\n",
       "      <td>10.227734</td>\n",
       "      <td>...</td>\n",
       "      <td>1</td>\n",
       "      <td>0</td>\n",
       "      <td>0</td>\n",
       "      <td>0</td>\n",
       "      <td>0</td>\n",
       "      <td>0</td>\n",
       "      <td>0</td>\n",
       "      <td>0</td>\n",
       "      <td>0</td>\n",
       "      <td>0</td>\n",
       "    </tr>\n",
       "    <tr>\n",
       "      <th>1.0</th>\n",
       "      <td>17757.037554</td>\n",
       "      <td>10232.310907</td>\n",
       "      <td>4101.016273</td>\n",
       "      <td>92959.527633</td>\n",
       "      <td>105.293397</td>\n",
       "      <td>99.855168</td>\n",
       "      <td>10013.959449</td>\n",
       "      <td>10826.607494</td>\n",
       "      <td>10076.101597</td>\n",
       "      <td>11.436970</td>\n",
       "      <td>...</td>\n",
       "      <td>1</td>\n",
       "      <td>0</td>\n",
       "      <td>0</td>\n",
       "      <td>0</td>\n",
       "      <td>0</td>\n",
       "      <td>0</td>\n",
       "      <td>0</td>\n",
       "      <td>1</td>\n",
       "      <td>0</td>\n",
       "      <td>0</td>\n",
       "    </tr>\n",
       "    <tr>\n",
       "      <th>2.0</th>\n",
       "      <td>14226.656663</td>\n",
       "      <td>11029.642499</td>\n",
       "      <td>3143.476933</td>\n",
       "      <td>124055.600561</td>\n",
       "      <td>100.542483</td>\n",
       "      <td>92.860892</td>\n",
       "      <td>10435.300970</td>\n",
       "      <td>10492.342868</td>\n",
       "      <td>10346.971352</td>\n",
       "      <td>10.810076</td>\n",
       "      <td>...</td>\n",
       "      <td>0</td>\n",
       "      <td>0</td>\n",
       "      <td>0</td>\n",
       "      <td>0</td>\n",
       "      <td>0</td>\n",
       "      <td>0</td>\n",
       "      <td>0</td>\n",
       "      <td>0</td>\n",
       "      <td>0</td>\n",
       "      <td>0</td>\n",
       "    </tr>\n",
       "    <tr>\n",
       "      <th>3.0</th>\n",
       "      <td>8766.012436</td>\n",
       "      <td>7384.202998</td>\n",
       "      <td>2147.308418</td>\n",
       "      <td>100157.719990</td>\n",
       "      <td>104.855061</td>\n",
       "      <td>101.929026</td>\n",
       "      <td>10050.049932</td>\n",
       "      <td>10499.521099</td>\n",
       "      <td>10525.030989</td>\n",
       "      <td>10.092109</td>\n",
       "      <td>...</td>\n",
       "      <td>0</td>\n",
       "      <td>0</td>\n",
       "      <td>0</td>\n",
       "      <td>0</td>\n",
       "      <td>0</td>\n",
       "      <td>0</td>\n",
       "      <td>0</td>\n",
       "      <td>0</td>\n",
       "      <td>0</td>\n",
       "      <td>1</td>\n",
       "    </tr>\n",
       "    <tr>\n",
       "      <th>4.0</th>\n",
       "      <td>13801.016418</td>\n",
       "      <td>13269.493652</td>\n",
       "      <td>3408.316953</td>\n",
       "      <td>92048.527786</td>\n",
       "      <td>103.759758</td>\n",
       "      <td>95.789235</td>\n",
       "      <td>9667.353978</td>\n",
       "      <td>10750.783106</td>\n",
       "      <td>10618.800750</td>\n",
       "      <td>12.006773</td>\n",
       "      <td>...</td>\n",
       "      <td>0</td>\n",
       "      <td>0</td>\n",
       "      <td>1</td>\n",
       "      <td>1</td>\n",
       "      <td>0</td>\n",
       "      <td>0</td>\n",
       "      <td>0</td>\n",
       "      <td>0</td>\n",
       "      <td>0</td>\n",
       "      <td>0</td>\n",
       "    </tr>\n",
       "    <tr>\n",
       "      <th>...</th>\n",
       "      <td>...</td>\n",
       "      <td>...</td>\n",
       "      <td>...</td>\n",
       "      <td>...</td>\n",
       "      <td>...</td>\n",
       "      <td>...</td>\n",
       "      <td>...</td>\n",
       "      <td>...</td>\n",
       "      <td>...</td>\n",
       "      <td>...</td>\n",
       "      <td>...</td>\n",
       "      <td>...</td>\n",
       "      <td>...</td>\n",
       "      <td>...</td>\n",
       "      <td>...</td>\n",
       "      <td>...</td>\n",
       "      <td>...</td>\n",
       "      <td>...</td>\n",
       "      <td>...</td>\n",
       "      <td>...</td>\n",
       "      <td>...</td>\n",
       "    </tr>\n",
       "    <tr>\n",
       "      <th>1207.0</th>\n",
       "      <td>18707.457475</td>\n",
       "      <td>13610.725702</td>\n",
       "      <td>3785.886941</td>\n",
       "      <td>113497.632841</td>\n",
       "      <td>109.526764</td>\n",
       "      <td>97.812339</td>\n",
       "      <td>11274.011935</td>\n",
       "      <td>10803.953566</td>\n",
       "      <td>10949.811419</td>\n",
       "      <td>11.024856</td>\n",
       "      <td>...</td>\n",
       "      <td>0</td>\n",
       "      <td>0</td>\n",
       "      <td>0</td>\n",
       "      <td>0</td>\n",
       "      <td>0</td>\n",
       "      <td>0</td>\n",
       "      <td>0</td>\n",
       "      <td>0</td>\n",
       "      <td>1</td>\n",
       "      <td>0</td>\n",
       "    </tr>\n",
       "    <tr>\n",
       "      <th>1208.0</th>\n",
       "      <td>17108.239122</td>\n",
       "      <td>12168.536128</td>\n",
       "      <td>3442.619145</td>\n",
       "      <td>98218.773311</td>\n",
       "      <td>100.468476</td>\n",
       "      <td>109.994258</td>\n",
       "      <td>11031.326117</td>\n",
       "      <td>10231.743317</td>\n",
       "      <td>10687.321177</td>\n",
       "      <td>10.238957</td>\n",
       "      <td>...</td>\n",
       "      <td>0</td>\n",
       "      <td>0</td>\n",
       "      <td>0</td>\n",
       "      <td>0</td>\n",
       "      <td>0</td>\n",
       "      <td>0</td>\n",
       "      <td>0</td>\n",
       "      <td>0</td>\n",
       "      <td>0</td>\n",
       "      <td>0</td>\n",
       "    </tr>\n",
       "    <tr>\n",
       "      <th>1209.0</th>\n",
       "      <td>14264.707321</td>\n",
       "      <td>9273.405761</td>\n",
       "      <td>3580.894003</td>\n",
       "      <td>101668.927699</td>\n",
       "      <td>102.620705</td>\n",
       "      <td>104.470375</td>\n",
       "      <td>9159.594864</td>\n",
       "      <td>10661.827392</td>\n",
       "      <td>10623.176915</td>\n",
       "      <td>10.132906</td>\n",
       "      <td>...</td>\n",
       "      <td>0</td>\n",
       "      <td>0</td>\n",
       "      <td>0</td>\n",
       "      <td>0</td>\n",
       "      <td>0</td>\n",
       "      <td>0</td>\n",
       "      <td>1</td>\n",
       "      <td>0</td>\n",
       "      <td>0</td>\n",
       "      <td>0</td>\n",
       "    </tr>\n",
       "    <tr>\n",
       "      <th>1210.0</th>\n",
       "      <td>14907.077440</td>\n",
       "      <td>10936.636575</td>\n",
       "      <td>3159.167789</td>\n",
       "      <td>100400.608972</td>\n",
       "      <td>106.622507</td>\n",
       "      <td>84.859872</td>\n",
       "      <td>10356.404262</td>\n",
       "      <td>10107.960852</td>\n",
       "      <td>10384.924460</td>\n",
       "      <td>8.239864</td>\n",
       "      <td>...</td>\n",
       "      <td>0</td>\n",
       "      <td>0</td>\n",
       "      <td>0</td>\n",
       "      <td>0</td>\n",
       "      <td>0</td>\n",
       "      <td>0</td>\n",
       "      <td>0</td>\n",
       "      <td>0</td>\n",
       "      <td>0</td>\n",
       "      <td>0</td>\n",
       "    </tr>\n",
       "    <tr>\n",
       "      <th>1211.0</th>\n",
       "      <td>14975.969273</td>\n",
       "      <td>11451.350347</td>\n",
       "      <td>3107.470343</td>\n",
       "      <td>100080.295868</td>\n",
       "      <td>108.040548</td>\n",
       "      <td>101.066300</td>\n",
       "      <td>10766.888640</td>\n",
       "      <td>10726.567333</td>\n",
       "      <td>10632.289329</td>\n",
       "      <td>10.687628</td>\n",
       "      <td>...</td>\n",
       "      <td>0</td>\n",
       "      <td>0</td>\n",
       "      <td>0</td>\n",
       "      <td>0</td>\n",
       "      <td>0</td>\n",
       "      <td>0</td>\n",
       "      <td>0</td>\n",
       "      <td>0</td>\n",
       "      <td>0</td>\n",
       "      <td>0</td>\n",
       "    </tr>\n",
       "  </tbody>\n",
       "</table>\n",
       "<p>1212 rows × 1656 columns</p>\n",
       "</div>"
      ],
      "text/plain": [
       "                  x0            x1           x2             x3          x4  \\\n",
       "id                                                                           \n",
       "0.0     14168.823171  10514.380717  3316.149698   94230.695124  102.386606   \n",
       "1.0     17757.037554  10232.310907  4101.016273   92959.527633  105.293397   \n",
       "2.0     14226.656663  11029.642499  3143.476933  124055.600561  100.542483   \n",
       "3.0      8766.012436   7384.202998  2147.308418  100157.719990  104.855061   \n",
       "4.0     13801.016418  13269.493652  3408.316953   92048.527786  103.759758   \n",
       "...              ...           ...          ...            ...         ...   \n",
       "1207.0  18707.457475  13610.725702  3785.886941  113497.632841  109.526764   \n",
       "1208.0  17108.239122  12168.536128  3442.619145   98218.773311  100.468476   \n",
       "1209.0  14264.707321   9273.405761  3580.894003  101668.927699  102.620705   \n",
       "1210.0  14907.077440  10936.636575  3159.167789  100400.608972  106.622507   \n",
       "1211.0  14975.969273  11451.350347  3107.470343  100080.295868  108.040548   \n",
       "\n",
       "                x5            x6            x7            x8         x9  ...  \\\n",
       "id                                                                       ...   \n",
       "0.0      92.677127  11108.748199  10866.505510  10837.622093  10.227734  ...   \n",
       "1.0      99.855168  10013.959449  10826.607494  10076.101597  11.436970  ...   \n",
       "2.0      92.860892  10435.300970  10492.342868  10346.971352  10.810076  ...   \n",
       "3.0     101.929026  10050.049932  10499.521099  10525.030989  10.092109  ...   \n",
       "4.0      95.789235   9667.353978  10750.783106  10618.800750  12.006773  ...   \n",
       "...            ...           ...           ...           ...        ...  ...   \n",
       "1207.0   97.812339  11274.011935  10803.953566  10949.811419  11.024856  ...   \n",
       "1208.0  109.994258  11031.326117  10231.743317  10687.321177  10.238957  ...   \n",
       "1209.0  104.470375   9159.594864  10661.827392  10623.176915  10.132906  ...   \n",
       "1210.0   84.859872  10356.404262  10107.960852  10384.924460   8.239864  ...   \n",
       "1211.0  101.066300  10766.888640  10726.567333  10632.289329  10.687628  ...   \n",
       "\n",
       "        isnan_x822  isnan_x823  isnan_x824  isnan_x825  isnan_x826  \\\n",
       "id                                                                   \n",
       "0.0              1           0           0           0           0   \n",
       "1.0              1           0           0           0           0   \n",
       "2.0              0           0           0           0           0   \n",
       "3.0              0           0           0           0           0   \n",
       "4.0              0           0           1           1           0   \n",
       "...            ...         ...         ...         ...         ...   \n",
       "1207.0           0           0           0           0           0   \n",
       "1208.0           0           0           0           0           0   \n",
       "1209.0           0           0           0           0           0   \n",
       "1210.0           0           0           0           0           0   \n",
       "1211.0           0           0           0           0           0   \n",
       "\n",
       "        isnan_x827  isnan_x828  isnan_x829  isnan_x830  isnan_x831  \n",
       "id                                                                  \n",
       "0.0              0           0           0           0           0  \n",
       "1.0              0           0           1           0           0  \n",
       "2.0              0           0           0           0           0  \n",
       "3.0              0           0           0           0           1  \n",
       "4.0              0           0           0           0           0  \n",
       "...            ...         ...         ...         ...         ...  \n",
       "1207.0           0           0           0           1           0  \n",
       "1208.0           0           0           0           0           0  \n",
       "1209.0           0           1           0           0           0  \n",
       "1210.0           0           0           0           0           0  \n",
       "1211.0           0           0           0           0           0  \n",
       "\n",
       "[1212 rows x 1656 columns]"
      ]
     },
     "execution_count": 12,
     "metadata": {},
     "output_type": "execute_result"
    }
   ],
   "source": [
    "x_train = pd.concat([x_train, nans_train], axis=1)\n",
    "x_test = pd.concat([x_test, nans_test], axis=1)\n",
    "x_test\n",
    "x_train"
   ]
  },
  {
   "cell_type": "code",
   "execution_count": 13,
   "metadata": {
    "colab": {
     "base_uri": "https://localhost:8080/",
     "height": 424
    },
    "executionInfo": {
     "elapsed": 7443,
     "status": "ok",
     "timestamp": 1667738773708,
     "user": {
      "displayName": "Davide",
      "userId": "07926258312875750976"
     },
     "user_tz": -60
    },
    "id": "XC82dcyVyPcN",
    "outputId": "2eda2bd1-5334-4824-abfd-68dc8d32f4fd"
   },
   "outputs": [
    {
     "data": {
      "text/html": [
       "<div>\n",
       "<style scoped>\n",
       "    .dataframe tbody tr th:only-of-type {\n",
       "        vertical-align: middle;\n",
       "    }\n",
       "\n",
       "    .dataframe tbody tr th {\n",
       "        vertical-align: top;\n",
       "    }\n",
       "\n",
       "    .dataframe thead th {\n",
       "        text-align: right;\n",
       "    }\n",
       "</style>\n",
       "<table border=\"1\" class=\"dataframe\">\n",
       "  <thead>\n",
       "    <tr style=\"text-align: right;\">\n",
       "      <th></th>\n",
       "      <th>count</th>\n",
       "      <th>mean</th>\n",
       "      <th>std</th>\n",
       "      <th>min</th>\n",
       "      <th>25%</th>\n",
       "      <th>50%</th>\n",
       "      <th>75%</th>\n",
       "      <th>max</th>\n",
       "    </tr>\n",
       "  </thead>\n",
       "  <tbody>\n",
       "    <tr>\n",
       "      <th>x173</th>\n",
       "      <td>1212.0</td>\n",
       "      <td>-1.852303e+22</td>\n",
       "      <td>2.496973e+22</td>\n",
       "      <td>-2.937933e+23</td>\n",
       "      <td>-2.871468e+22</td>\n",
       "      <td>-1.414654e+22</td>\n",
       "      <td>-3.972937e+21</td>\n",
       "      <td>7.002915e+22</td>\n",
       "    </tr>\n",
       "    <tr>\n",
       "      <th>x665</th>\n",
       "      <td>1212.0</td>\n",
       "      <td>4.526528e+22</td>\n",
       "      <td>3.966675e+22</td>\n",
       "      <td>-6.392632e+22</td>\n",
       "      <td>2.704526e+22</td>\n",
       "      <td>3.921405e+22</td>\n",
       "      <td>5.853573e+22</td>\n",
       "      <td>9.935455e+23</td>\n",
       "    </tr>\n",
       "    <tr>\n",
       "      <th>x596</th>\n",
       "      <td>1212.0</td>\n",
       "      <td>-1.835249e+14</td>\n",
       "      <td>1.234405e+14</td>\n",
       "      <td>-8.756492e+14</td>\n",
       "      <td>-2.335186e+14</td>\n",
       "      <td>-1.486501e+14</td>\n",
       "      <td>-1.082350e+14</td>\n",
       "      <td>2.926746e+14</td>\n",
       "    </tr>\n",
       "    <tr>\n",
       "      <th>x132</th>\n",
       "      <td>1212.0</td>\n",
       "      <td>-1.386441e+06</td>\n",
       "      <td>2.086794e+05</td>\n",
       "      <td>-2.819624e+06</td>\n",
       "      <td>-1.498551e+06</td>\n",
       "      <td>-1.367610e+06</td>\n",
       "      <td>-1.278865e+06</td>\n",
       "      <td>-5.738037e+05</td>\n",
       "    </tr>\n",
       "    <tr>\n",
       "      <th>x374</th>\n",
       "      <td>1212.0</td>\n",
       "      <td>-5.416921e+05</td>\n",
       "      <td>7.255622e+04</td>\n",
       "      <td>-1.002561e+06</td>\n",
       "      <td>-5.818485e+05</td>\n",
       "      <td>-5.352921e+05</td>\n",
       "      <td>-5.053880e+05</td>\n",
       "      <td>-1.607672e+05</td>\n",
       "    </tr>\n",
       "    <tr>\n",
       "      <th>...</th>\n",
       "      <td>...</td>\n",
       "      <td>...</td>\n",
       "      <td>...</td>\n",
       "      <td>...</td>\n",
       "      <td>...</td>\n",
       "      <td>...</td>\n",
       "      <td>...</td>\n",
       "      <td>...</td>\n",
       "    </tr>\n",
       "    <tr>\n",
       "      <th>x467</th>\n",
       "      <td>1212.0</td>\n",
       "      <td>1.052099e+06</td>\n",
       "      <td>2.765164e+04</td>\n",
       "      <td>1.000249e+06</td>\n",
       "      <td>1.029032e+06</td>\n",
       "      <td>1.053533e+06</td>\n",
       "      <td>1.073040e+06</td>\n",
       "      <td>1.099984e+06</td>\n",
       "    </tr>\n",
       "    <tr>\n",
       "      <th>x421</th>\n",
       "      <td>1212.0</td>\n",
       "      <td>1.049927e+06</td>\n",
       "      <td>2.740026e+04</td>\n",
       "      <td>1.000304e+06</td>\n",
       "      <td>1.027643e+06</td>\n",
       "      <td>1.049873e+06</td>\n",
       "      <td>1.072518e+06</td>\n",
       "      <td>1.099971e+06</td>\n",
       "    </tr>\n",
       "    <tr>\n",
       "      <th>x637</th>\n",
       "      <td>1212.0</td>\n",
       "      <td>1.049070e+06</td>\n",
       "      <td>2.763131e+04</td>\n",
       "      <td>1.000329e+06</td>\n",
       "      <td>1.026365e+06</td>\n",
       "      <td>1.047396e+06</td>\n",
       "      <td>1.072268e+06</td>\n",
       "      <td>1.099951e+06</td>\n",
       "    </tr>\n",
       "    <tr>\n",
       "      <th>x331</th>\n",
       "      <td>1212.0</td>\n",
       "      <td>1.049137e+06</td>\n",
       "      <td>2.841760e+04</td>\n",
       "      <td>1.000372e+06</td>\n",
       "      <td>1.024670e+06</td>\n",
       "      <td>1.049827e+06</td>\n",
       "      <td>1.070840e+06</td>\n",
       "      <td>1.099887e+06</td>\n",
       "    </tr>\n",
       "    <tr>\n",
       "      <th>x342</th>\n",
       "      <td>1212.0</td>\n",
       "      <td>2.768082e+06</td>\n",
       "      <td>3.494796e+05</td>\n",
       "      <td>1.168237e+06</td>\n",
       "      <td>2.588156e+06</td>\n",
       "      <td>2.733172e+06</td>\n",
       "      <td>2.948358e+06</td>\n",
       "      <td>5.032106e+06</td>\n",
       "    </tr>\n",
       "  </tbody>\n",
       "</table>\n",
       "<p>1656 rows × 8 columns</p>\n",
       "</div>"
      ],
      "text/plain": [
       "       count          mean           std           min           25%  \\\n",
       "x173  1212.0 -1.852303e+22  2.496973e+22 -2.937933e+23 -2.871468e+22   \n",
       "x665  1212.0  4.526528e+22  3.966675e+22 -6.392632e+22  2.704526e+22   \n",
       "x596  1212.0 -1.835249e+14  1.234405e+14 -8.756492e+14 -2.335186e+14   \n",
       "x132  1212.0 -1.386441e+06  2.086794e+05 -2.819624e+06 -1.498551e+06   \n",
       "x374  1212.0 -5.416921e+05  7.255622e+04 -1.002561e+06 -5.818485e+05   \n",
       "...      ...           ...           ...           ...           ...   \n",
       "x467  1212.0  1.052099e+06  2.765164e+04  1.000249e+06  1.029032e+06   \n",
       "x421  1212.0  1.049927e+06  2.740026e+04  1.000304e+06  1.027643e+06   \n",
       "x637  1212.0  1.049070e+06  2.763131e+04  1.000329e+06  1.026365e+06   \n",
       "x331  1212.0  1.049137e+06  2.841760e+04  1.000372e+06  1.024670e+06   \n",
       "x342  1212.0  2.768082e+06  3.494796e+05  1.168237e+06  2.588156e+06   \n",
       "\n",
       "               50%           75%           max  \n",
       "x173 -1.414654e+22 -3.972937e+21  7.002915e+22  \n",
       "x665  3.921405e+22  5.853573e+22  9.935455e+23  \n",
       "x596 -1.486501e+14 -1.082350e+14  2.926746e+14  \n",
       "x132 -1.367610e+06 -1.278865e+06 -5.738037e+05  \n",
       "x374 -5.352921e+05 -5.053880e+05 -1.607672e+05  \n",
       "...            ...           ...           ...  \n",
       "x467  1.053533e+06  1.073040e+06  1.099984e+06  \n",
       "x421  1.049873e+06  1.072518e+06  1.099971e+06  \n",
       "x637  1.047396e+06  1.072268e+06  1.099951e+06  \n",
       "x331  1.049827e+06  1.070840e+06  1.099887e+06  \n",
       "x342  2.733172e+06  2.948358e+06  5.032106e+06  \n",
       "\n",
       "[1656 rows x 8 columns]"
      ]
     },
     "execution_count": 13,
     "metadata": {},
     "output_type": "execute_result"
    }
   ],
   "source": [
    "x_train.describe().transpose().sort_values('min')"
   ]
  },
  {
   "cell_type": "code",
   "execution_count": 14,
   "metadata": {
    "executionInfo": {
     "elapsed": 1752,
     "status": "ok",
     "timestamp": 1667738775452,
     "user": {
      "displayName": "Davide",
      "userId": "07926258312875750976"
     },
     "user_tz": -60
    },
    "id": "Al32PnFy9zLb"
   },
   "outputs": [],
   "source": [
    "s = StandardScaler()\n",
    "x_train[[str(col) for col in x_train.columns]] = s.fit_transform(x_train)\n",
    "x_test[[str(col) for col in x_train.columns]] = s.transform(x_test)"
   ]
  },
  {
   "cell_type": "code",
   "execution_count": 15,
   "metadata": {
    "executionInfo": {
     "elapsed": 7813,
     "status": "ok",
     "timestamp": 1667738783260,
     "user": {
      "displayName": "Davide",
      "userId": "07926258312875750976"
     },
     "user_tz": -60
    },
    "id": "Sk0-AzKcLaCn"
   },
   "outputs": [],
   "source": [
    "x_train.to_csv(preprocessed + 'X_train_preprocessed_DL.csv',index_label=\"id\")\n",
    "x_test.to_csv(preprocessed + 'X_test_preprocessed_DL.csv',index_label=\"id\")\n",
    "y_train.to_csv(preprocessed + 'y_train_preprocessed_DL.csv',index_label=\"id\")\n",
    "y_test.to_csv(preprocessed + 'y_test_preprocessed_DL.csv',index_label=\"id\")"
   ]
  },
  {
   "cell_type": "code",
   "execution_count": 16,
   "metadata": {
    "executionInfo": {
     "elapsed": 7,
     "status": "ok",
     "timestamp": 1667738783260,
     "user": {
      "displayName": "Davide",
      "userId": "07926258312875750976"
     },
     "user_tz": -60
    },
    "id": "v0uJfVg3cccX"
   },
   "outputs": [
    {
     "name": "stdout",
     "output_type": "stream",
     "text": [
      "Requirement already satisfied: yellowbrick in c:\\users\\david\\anaconda3\\lib\\site-packages (1.5)\n",
      "Requirement already satisfied: matplotlib!=3.0.0,>=2.0.2 in c:\\users\\david\\anaconda3\\lib\\site-packages (from yellowbrick) (3.5.3)\n",
      "Requirement already satisfied: numpy>=1.16.0 in c:\\users\\david\\anaconda3\\lib\\site-packages (from yellowbrick) (1.23.3)\n",
      "Requirement already satisfied: scipy>=1.0.0 in c:\\users\\david\\anaconda3\\lib\\site-packages (from yellowbrick) (1.9.3)\n",
      "Requirement already satisfied: cycler>=0.10.0 in c:\\users\\david\\anaconda3\\lib\\site-packages (from yellowbrick) (0.11.0)\n",
      "Requirement already satisfied: scikit-learn>=1.0.0 in c:\\users\\david\\anaconda3\\lib\\site-packages (from yellowbrick) (1.1.3)\n",
      "Requirement already satisfied: pillow>=6.2.0 in c:\\users\\david\\anaconda3\\lib\\site-packages (from matplotlib!=3.0.0,>=2.0.2->yellowbrick) (9.2.0)\n",
      "Requirement already satisfied: packaging>=20.0 in c:\\users\\david\\anaconda3\\lib\\site-packages (from matplotlib!=3.0.0,>=2.0.2->yellowbrick) (21.3)\n",
      "Requirement already satisfied: python-dateutil>=2.7 in c:\\users\\david\\anaconda3\\lib\\site-packages (from matplotlib!=3.0.0,>=2.0.2->yellowbrick) (2.8.2)\n",
      "Requirement already satisfied: kiwisolver>=1.0.1 in c:\\users\\david\\anaconda3\\lib\\site-packages (from matplotlib!=3.0.0,>=2.0.2->yellowbrick) (1.4.2)\n",
      "Requirement already satisfied: pyparsing>=2.2.1 in c:\\users\\david\\anaconda3\\lib\\site-packages (from matplotlib!=3.0.0,>=2.0.2->yellowbrick) (3.0.9)\n",
      "Requirement already satisfied: fonttools>=4.22.0 in c:\\users\\david\\anaconda3\\lib\\site-packages (from matplotlib!=3.0.0,>=2.0.2->yellowbrick) (4.25.0)\n",
      "Requirement already satisfied: joblib>=1.0.0 in c:\\users\\david\\anaconda3\\lib\\site-packages (from scikit-learn>=1.0.0->yellowbrick) (1.1.1)\n",
      "Requirement already satisfied: threadpoolctl>=2.0.0 in c:\\users\\david\\anaconda3\\lib\\site-packages (from scikit-learn>=1.0.0->yellowbrick) (2.2.0)\n",
      "Requirement already satisfied: six>=1.5 in c:\\users\\david\\anaconda3\\lib\\site-packages (from python-dateutil>=2.7->matplotlib!=3.0.0,>=2.0.2->yellowbrick) (1.16.0)\n"
     ]
    }
   ],
   "source": [
    "!pip install yellowbrick"
   ]
  },
  {
   "cell_type": "code",
   "execution_count": 18,
   "metadata": {},
   "outputs": [
    {
     "name": "stdout",
     "output_type": "stream",
     "text": [
      "CPU times: total: 9.83 s\n",
      "Wall time: 16min 54s\n"
     ]
    },
    {
     "data": {
      "text/html": [
       "<style>#sk-container-id-1 {color: black;background-color: white;}#sk-container-id-1 pre{padding: 0;}#sk-container-id-1 div.sk-toggleable {background-color: white;}#sk-container-id-1 label.sk-toggleable__label {cursor: pointer;display: block;width: 100%;margin-bottom: 0;padding: 0.3em;box-sizing: border-box;text-align: center;}#sk-container-id-1 label.sk-toggleable__label-arrow:before {content: \"▸\";float: left;margin-right: 0.25em;color: #696969;}#sk-container-id-1 label.sk-toggleable__label-arrow:hover:before {color: black;}#sk-container-id-1 div.sk-estimator:hover label.sk-toggleable__label-arrow:before {color: black;}#sk-container-id-1 div.sk-toggleable__content {max-height: 0;max-width: 0;overflow: hidden;text-align: left;background-color: #f0f8ff;}#sk-container-id-1 div.sk-toggleable__content pre {margin: 0.2em;color: black;border-radius: 0.25em;background-color: #f0f8ff;}#sk-container-id-1 input.sk-toggleable__control:checked~div.sk-toggleable__content {max-height: 200px;max-width: 100%;overflow: auto;}#sk-container-id-1 input.sk-toggleable__control:checked~label.sk-toggleable__label-arrow:before {content: \"▾\";}#sk-container-id-1 div.sk-estimator input.sk-toggleable__control:checked~label.sk-toggleable__label {background-color: #d4ebff;}#sk-container-id-1 div.sk-label input.sk-toggleable__control:checked~label.sk-toggleable__label {background-color: #d4ebff;}#sk-container-id-1 input.sk-hidden--visually {border: 0;clip: rect(1px 1px 1px 1px);clip: rect(1px, 1px, 1px, 1px);height: 1px;margin: -1px;overflow: hidden;padding: 0;position: absolute;width: 1px;}#sk-container-id-1 div.sk-estimator {font-family: monospace;background-color: #f0f8ff;border: 1px dotted black;border-radius: 0.25em;box-sizing: border-box;margin-bottom: 0.5em;}#sk-container-id-1 div.sk-estimator:hover {background-color: #d4ebff;}#sk-container-id-1 div.sk-parallel-item::after {content: \"\";width: 100%;border-bottom: 1px solid gray;flex-grow: 1;}#sk-container-id-1 div.sk-label:hover label.sk-toggleable__label {background-color: #d4ebff;}#sk-container-id-1 div.sk-serial::before {content: \"\";position: absolute;border-left: 1px solid gray;box-sizing: border-box;top: 0;bottom: 0;left: 50%;z-index: 0;}#sk-container-id-1 div.sk-serial {display: flex;flex-direction: column;align-items: center;background-color: white;padding-right: 0.2em;padding-left: 0.2em;position: relative;}#sk-container-id-1 div.sk-item {position: relative;z-index: 1;}#sk-container-id-1 div.sk-parallel {display: flex;align-items: stretch;justify-content: center;background-color: white;position: relative;}#sk-container-id-1 div.sk-item::before, #sk-container-id-1 div.sk-parallel-item::before {content: \"\";position: absolute;border-left: 1px solid gray;box-sizing: border-box;top: 0;bottom: 0;left: 50%;z-index: -1;}#sk-container-id-1 div.sk-parallel-item {display: flex;flex-direction: column;z-index: 1;position: relative;background-color: white;}#sk-container-id-1 div.sk-parallel-item:first-child::after {align-self: flex-end;width: 50%;}#sk-container-id-1 div.sk-parallel-item:last-child::after {align-self: flex-start;width: 50%;}#sk-container-id-1 div.sk-parallel-item:only-child::after {width: 0;}#sk-container-id-1 div.sk-dashed-wrapped {border: 1px dashed gray;margin: 0 0.4em 0.5em 0.4em;box-sizing: border-box;padding-bottom: 0.4em;background-color: white;}#sk-container-id-1 div.sk-label label {font-family: monospace;font-weight: bold;display: inline-block;line-height: 1.2em;}#sk-container-id-1 div.sk-label-container {text-align: center;}#sk-container-id-1 div.sk-container {/* jupyter's `normalize.less` sets `[hidden] { display: none; }` but bootstrap.min.css set `[hidden] { display: none !important; }` so we also need the `!important` here to be able to override the default hidden behavior on the sphinx rendered scikit-learn.org. See: https://github.com/scikit-learn/scikit-learn/issues/21755 */display: inline-block !important;position: relative;}#sk-container-id-1 div.sk-text-repr-fallback {display: none;}</style><div id=\"sk-container-id-1\" class=\"sk-top-container\"><div class=\"sk-text-repr-fallback\"><pre>SequentialFeatureSelector(estimator=ExtraTreesRegressor(n_estimators=600,\n",
       "                                                        n_jobs=-1,\n",
       "                                                        random_state=0),\n",
       "                          n_features_to_select=1, n_jobs=-1, tol=0)</pre><b>In a Jupyter environment, please rerun this cell to show the HTML representation or trust the notebook. <br />On GitHub, the HTML representation is unable to render, please try loading this page with nbviewer.org.</b></div><div class=\"sk-container\" hidden><div class=\"sk-item sk-dashed-wrapped\"><div class=\"sk-label-container\"><div class=\"sk-label sk-toggleable\"><input class=\"sk-toggleable__control sk-hidden--visually\" id=\"sk-estimator-id-1\" type=\"checkbox\" ><label for=\"sk-estimator-id-1\" class=\"sk-toggleable__label sk-toggleable__label-arrow\">SequentialFeatureSelector</label><div class=\"sk-toggleable__content\"><pre>SequentialFeatureSelector(estimator=ExtraTreesRegressor(n_estimators=600,\n",
       "                                                        n_jobs=-1,\n",
       "                                                        random_state=0),\n",
       "                          n_features_to_select=1, n_jobs=-1, tol=0)</pre></div></div></div><div class=\"sk-parallel\"><div class=\"sk-parallel-item\"><div class=\"sk-item\"><div class=\"sk-label-container\"><div class=\"sk-label sk-toggleable\"><input class=\"sk-toggleable__control sk-hidden--visually\" id=\"sk-estimator-id-2\" type=\"checkbox\" ><label for=\"sk-estimator-id-2\" class=\"sk-toggleable__label sk-toggleable__label-arrow\">estimator: ExtraTreesRegressor</label><div class=\"sk-toggleable__content\"><pre>ExtraTreesRegressor(n_estimators=600, n_jobs=-1, random_state=0)</pre></div></div></div><div class=\"sk-serial\"><div class=\"sk-item\"><div class=\"sk-estimator sk-toggleable\"><input class=\"sk-toggleable__control sk-hidden--visually\" id=\"sk-estimator-id-3\" type=\"checkbox\" ><label for=\"sk-estimator-id-3\" class=\"sk-toggleable__label sk-toggleable__label-arrow\">ExtraTreesRegressor</label><div class=\"sk-toggleable__content\"><pre>ExtraTreesRegressor(n_estimators=600, n_jobs=-1, random_state=0)</pre></div></div></div></div></div></div></div></div></div></div>"
      ],
      "text/plain": [
       "SequentialFeatureSelector(estimator=ExtraTreesRegressor(n_estimators=600,\n",
       "                                                        n_jobs=-1,\n",
       "                                                        random_state=0),\n",
       "                          n_features_to_select=1, n_jobs=-1, tol=0)"
      ]
     },
     "execution_count": 18,
     "metadata": {},
     "output_type": "execute_result"
    }
   ],
   "source": [
    "%%time\n",
    "from sklearn.ensemble import ExtraTreesRegressor\n",
    "from sklearn.gaussian_process import GaussianProcessRegressor\n",
    "from sklearn.feature_selection import RFECV, SequentialFeatureSelector, SelectFromModel\n",
    "from sklearn.gaussian_process.kernels import RationalQuadratic, ExpSineSquared, RBF\n",
    "\n",
    "from sklearn.model_selection import StratifiedKFold\n",
    "\n",
    "# from yellowbrick.model_selection import RFECV\n",
    "# from yellowbrick.datasets import load_credit\n",
    "\n",
    "rfr = ExtraTreesRegressor(n_jobs=-1, n_estimators=600, random_state=0)\n",
    "#rfr = GaussianProcessRegressor(kernel=RBF(), random_state=0)\n",
    "#selector = RFECV(estimator = rfr, n_jobs=-1)\n",
    "selector = SequentialFeatureSelector(estimator = rfr, n_features_to_select=3, tol=0, n_jobs=-1)\n",
    "selector.fit(X = np.array(x_train), y = np.ravel(y_train))\n",
    "#CPU times: total: 9.83 s\n",
    "#Wall time: 16min 54s"
   ]
  },
  {
   "cell_type": "code",
   "execution_count": 34,
   "metadata": {},
   "outputs": [
    {
     "data": {
      "text/plain": [
       "(1656,)"
      ]
     },
     "execution_count": 34,
     "metadata": {},
     "output_type": "execute_result"
    }
   ],
   "source": [
    "selector.get_support().shape"
   ]
  },
  {
   "cell_type": "code",
   "execution_count": 33,
   "metadata": {},
   "outputs": [
    {
     "data": {
      "text/plain": [
       "array([[1534]], dtype=int64)"
      ]
     },
     "execution_count": 33,
     "metadata": {},
     "output_type": "execute_result"
    }
   ],
   "source": [
    "np.argwhere(selector.get_support())\n",
    "#array([[1534]], dtype=int64)"
   ]
  },
  {
   "cell_type": "code",
   "execution_count": 27,
   "metadata": {},
   "outputs": [
    {
     "ename": "TypeError",
     "evalue": "unhashable type: 'numpy.ndarray'",
     "output_type": "error",
     "traceback": [
      "\u001b[1;31m---------------------------------------------------------------------------\u001b[0m",
      "\u001b[1;31mTypeError\u001b[0m                                 Traceback (most recent call last)",
      "Input \u001b[1;32mIn [27]\u001b[0m, in \u001b[0;36m<cell line: 1>\u001b[1;34m()\u001b[0m\n\u001b[1;32m----> 1\u001b[0m \u001b[43mx_train\u001b[49m\u001b[38;5;241;43m.\u001b[39;49m\u001b[43miloc\u001b[49m\u001b[43m(\u001b[49m\u001b[43mselector\u001b[49m\u001b[38;5;241;43m.\u001b[39;49m\u001b[43mget_support\u001b[49m\u001b[43m(\u001b[49m\u001b[43m)\u001b[49m\u001b[43m)\u001b[49m\n",
      "File \u001b[1;32m~\\anaconda3\\lib\\site-packages\\pandas\\core\\indexing.py:634\u001b[0m, in \u001b[0;36m_LocationIndexer.__call__\u001b[1;34m(self, axis)\u001b[0m\n\u001b[0;32m    631\u001b[0m new_self \u001b[38;5;241m=\u001b[39m \u001b[38;5;28mtype\u001b[39m(\u001b[38;5;28mself\u001b[39m)(\u001b[38;5;28mself\u001b[39m\u001b[38;5;241m.\u001b[39mname, \u001b[38;5;28mself\u001b[39m\u001b[38;5;241m.\u001b[39mobj)\n\u001b[0;32m    633\u001b[0m \u001b[38;5;28;01mif\u001b[39;00m axis \u001b[38;5;129;01mis\u001b[39;00m \u001b[38;5;129;01mnot\u001b[39;00m \u001b[38;5;28;01mNone\u001b[39;00m:\n\u001b[1;32m--> 634\u001b[0m     axis \u001b[38;5;241m=\u001b[39m \u001b[38;5;28;43mself\u001b[39;49m\u001b[38;5;241;43m.\u001b[39;49m\u001b[43mobj\u001b[49m\u001b[38;5;241;43m.\u001b[39;49m\u001b[43m_get_axis_number\u001b[49m\u001b[43m(\u001b[49m\u001b[43maxis\u001b[49m\u001b[43m)\u001b[49m\n\u001b[0;32m    635\u001b[0m new_self\u001b[38;5;241m.\u001b[39maxis \u001b[38;5;241m=\u001b[39m axis\n\u001b[0;32m    636\u001b[0m \u001b[38;5;28;01mreturn\u001b[39;00m new_self\n",
      "File \u001b[1;32m~\\anaconda3\\lib\\site-packages\\pandas\\core\\generic.py:550\u001b[0m, in \u001b[0;36mNDFrame._get_axis_number\u001b[1;34m(cls, axis)\u001b[0m\n\u001b[0;32m    546\u001b[0m \u001b[38;5;129m@final\u001b[39m\n\u001b[0;32m    547\u001b[0m \u001b[38;5;129m@classmethod\u001b[39m\n\u001b[0;32m    548\u001b[0m \u001b[38;5;28;01mdef\u001b[39;00m \u001b[38;5;21m_get_axis_number\u001b[39m(\u001b[38;5;28mcls\u001b[39m, axis: Axis) \u001b[38;5;241m-\u001b[39m\u001b[38;5;241m>\u001b[39m \u001b[38;5;28mint\u001b[39m:\n\u001b[0;32m    549\u001b[0m     \u001b[38;5;28;01mtry\u001b[39;00m:\n\u001b[1;32m--> 550\u001b[0m         \u001b[38;5;28;01mreturn\u001b[39;00m \u001b[38;5;28;43mcls\u001b[39;49m\u001b[38;5;241;43m.\u001b[39;49m\u001b[43m_AXIS_TO_AXIS_NUMBER\u001b[49m\u001b[43m[\u001b[49m\u001b[43maxis\u001b[49m\u001b[43m]\u001b[49m\n\u001b[0;32m    551\u001b[0m     \u001b[38;5;28;01mexcept\u001b[39;00m \u001b[38;5;167;01mKeyError\u001b[39;00m:\n\u001b[0;32m    552\u001b[0m         \u001b[38;5;28;01mraise\u001b[39;00m \u001b[38;5;167;01mValueError\u001b[39;00m(\u001b[38;5;124mf\u001b[39m\u001b[38;5;124m\"\u001b[39m\u001b[38;5;124mNo axis named \u001b[39m\u001b[38;5;132;01m{\u001b[39;00maxis\u001b[38;5;132;01m}\u001b[39;00m\u001b[38;5;124m for object type \u001b[39m\u001b[38;5;132;01m{\u001b[39;00m\u001b[38;5;28mcls\u001b[39m\u001b[38;5;241m.\u001b[39m\u001b[38;5;18m__name__\u001b[39m\u001b[38;5;132;01m}\u001b[39;00m\u001b[38;5;124m\"\u001b[39m)\n",
      "\u001b[1;31mTypeError\u001b[0m: unhashable type: 'numpy.ndarray'"
     ]
    }
   ],
   "source": [
    "x_train.iloc(selector.get_support())"
   ]
  },
  {
   "cell_type": "code",
   "execution_count": 32,
   "metadata": {},
   "outputs": [
    {
     "name": "stderr",
     "output_type": "stream",
     "text": [
      "C:\\Users\\david\\anaconda3\\lib\\site-packages\\sklearn\\base.py:443: UserWarning: X has feature names, but SequentialFeatureSelector was fitted without feature names\n",
      "  warnings.warn(\n"
     ]
    },
    {
     "data": {
      "text/plain": [
       "array([[-0.29824283],\n",
       "       [-0.29824283],\n",
       "       [-0.29824283],\n",
       "       ...,\n",
       "       [-0.29824283],\n",
       "       [-0.29824283],\n",
       "       [-0.29824283]])"
      ]
     },
     "execution_count": 32,
     "metadata": {},
     "output_type": "execute_result"
    }
   ],
   "source": [
    "selector.transform(x_train)\n",
    "#-0.29824283 (every element)"
   ]
  },
  {
   "cell_type": "code",
   "execution_count": 38,
   "metadata": {},
   "outputs": [
    {
     "data": {
      "text/plain": [
       "id\n",
       "0.0      -0.298243\n",
       "1.0      -0.298243\n",
       "2.0      -0.298243\n",
       "3.0      -0.298243\n",
       "4.0      -0.298243\n",
       "            ...   \n",
       "1207.0   -0.298243\n",
       "1208.0   -0.298243\n",
       "1209.0   -0.298243\n",
       "1210.0   -0.298243\n",
       "1211.0   -0.298243\n",
       "Name: isnan_x710, Length: 1212, dtype: float64"
      ]
     },
     "execution_count": 38,
     "metadata": {},
     "output_type": "execute_result"
    }
   ],
   "source": [
    "x_train.iloc[:, 1534]\n",
    "#isnan_x710"
   ]
  },
  {
   "cell_type": "code",
   "execution_count": null,
   "metadata": {},
   "outputs": [],
   "source": [
    "(x_train.iloc[:, 1534]==3.35297245).sum()"
   ]
  },
  {
   "cell_type": "code",
   "execution_count": 43,
   "metadata": {},
   "outputs": [
    {
     "data": {
      "text/plain": [
       "array([-0.29824283,  3.35297245])"
      ]
     },
     "execution_count": 43,
     "metadata": {},
     "output_type": "execute_result"
    }
   ],
   "source": [
    "x_train.iloc[:, 1534].unique()\n",
    "#array([-0.29824283,  3.35297245])"
   ]
  },
  {
   "cell_type": "raw",
   "metadata": {},
   "source": [
    "rfecv.estimator_.feature_importances_ "
   ]
  },
  {
   "cell_type": "code",
   "execution_count": 22,
   "metadata": {},
   "outputs": [
    {
     "ename": "NameError",
     "evalue": "name 'rfecv' is not defined",
     "output_type": "error",
     "traceback": [
      "\u001b[1;31m---------------------------------------------------------------------------\u001b[0m",
      "\u001b[1;31mNameError\u001b[0m                                 Traceback (most recent call last)",
      "Input \u001b[1;32mIn [22]\u001b[0m, in \u001b[0;36m<cell line: 1>\u001b[1;34m()\u001b[0m\n\u001b[1;32m----> 1\u001b[0m np\u001b[38;5;241m.\u001b[39mabsolute(\u001b[43mrfecv\u001b[49m\u001b[38;5;241m.\u001b[39mestimator_\u001b[38;5;241m.\u001b[39mcoef_)\n",
      "\u001b[1;31mNameError\u001b[0m: name 'rfecv' is not defined"
     ]
    }
   ],
   "source": [
    "np.absolute(rfecv.estimator_.coef_)"
   ]
  },
  {
   "cell_type": "code",
   "execution_count": null,
   "metadata": {
    "executionInfo": {
     "elapsed": 6,
     "status": "ok",
     "timestamp": 1667738783261,
     "user": {
      "displayName": "Davide",
      "userId": "07926258312875750976"
     },
     "user_tz": -60
    },
    "id": "TbQc-1o3qage"
   },
   "outputs": [],
   "source": [
    "# %%time\n",
    "# from sklearn.ensemble import ExtraTreesRegressor\n",
    "# from sklearn.gaussian_process import GaussianProcessRegressor\n",
    "# from sklearn.feature_selection import RFE\n",
    "# from sklearn.gaussian_process.kernels import RationalQuadratic, ExpSineSquared, RBF\n",
    "# rfr = ExtraTreesRegressor(n_jobs=-1, max_depth=None, n_estimators=341, random_state=0, min_samples_split=3, max_features=None)\n",
    "# rfr = GaussianProcessRegressor(kernel=RBF(), random_state=0)\n",
    "# selector = RFE(estimator = f_regression, n_features_to_select = 100)\n",
    "# selector.fit(X = np.array(x_train), y = np.ravel(y_train))"
   ]
  },
  {
   "cell_type": "code",
   "execution_count": null,
   "metadata": {
    "executionInfo": {
     "elapsed": 7,
     "status": "ok",
     "timestamp": 1667738783262,
     "user": {
      "displayName": "Davide",
      "userId": "07926258312875750976"
     },
     "user_tz": -60
    },
    "id": "QBmD4jVccclq"
   },
   "outputs": [],
   "source": [
    "\n",
    "#selector.show()"
   ]
  },
  {
   "cell_type": "code",
   "execution_count": 231,
   "metadata": {
    "executionInfo": {
     "elapsed": 8293,
     "status": "ok",
     "timestamp": 1667738791549,
     "user": {
      "displayName": "Davide",
      "userId": "07926258312875750976"
     },
     "user_tz": -60
    },
    "id": "fecQVpQJyPcN"
   },
   "outputs": [],
   "source": [
    "model=IsolationForest(n_estimators=150,max_samples='auto',contamination=float(0.2),random_state=np.random.RandomState(42), n_jobs=-1)\n",
    "model.fit(np.array(x_train))\n",
    "is_anomaly = model.predict(np.array(x_train))\n",
    "x_train['anomaly'] = is_anomaly\n",
    "y_train['anomaly'] = is_anomaly"
   ]
  },
  {
   "cell_type": "code",
   "execution_count": 232,
   "metadata": {
    "colab": {
     "base_uri": "https://localhost:8080/"
    },
    "executionInfo": {
     "elapsed": 31,
     "status": "ok",
     "timestamp": 1667738791551,
     "user": {
      "displayName": "Davide",
      "userId": "07926258312875750976"
     },
     "user_tz": -60
    },
    "id": "rQWqi21h_LVH",
    "outputId": "e768326a-52cc-4edc-cab3-228ab51aad2c"
   },
   "outputs": [
    {
     "data": {
      "text/plain": [
       " 1    969\n",
       "-1    243\n",
       "Name: anomaly, dtype: int64"
      ]
     },
     "execution_count": 232,
     "metadata": {},
     "output_type": "execute_result"
    }
   ],
   "source": [
    "x_train['anomaly'].value_counts()"
   ]
  },
  {
   "cell_type": "code",
   "execution_count": 233,
   "metadata": {
    "colab": {
     "base_uri": "https://localhost:8080/"
    },
    "executionInfo": {
     "elapsed": 26,
     "status": "ok",
     "timestamp": 1667738791552,
     "user": {
      "displayName": "Davide",
      "userId": "07926258312875750976"
     },
     "user_tz": -60
    },
    "id": "sfiBxNWl92JE",
    "outputId": "c7edf8dc-7b93-483d-9f2b-085445477471"
   },
   "outputs": [
    {
     "data": {
      "text/plain": [
       " 1    969\n",
       "-1    243\n",
       "Name: anomaly, dtype: int64"
      ]
     },
     "execution_count": 233,
     "metadata": {},
     "output_type": "execute_result"
    }
   ],
   "source": [
    "y_train['anomaly'].value_counts()"
   ]
  },
  {
   "cell_type": "code",
   "execution_count": 234,
   "metadata": {
    "executionInfo": {
     "elapsed": 22,
     "status": "ok",
     "timestamp": 1667738791553,
     "user": {
      "displayName": "Davide",
      "userId": "07926258312875750976"
     },
     "user_tz": -60
    },
    "id": "NCxI04R89xXN"
   },
   "outputs": [],
   "source": [
    "x_train = x_train[x_train.anomaly > 0]\n",
    "y_train = y_train[y_train.anomaly > 0]"
   ]
  },
  {
   "cell_type": "code",
   "execution_count": 235,
   "metadata": {
    "executionInfo": {
     "elapsed": 22,
     "status": "ok",
     "timestamp": 1667738791554,
     "user": {
      "displayName": "Davide",
      "userId": "07926258312875750976"
     },
     "user_tz": -60
    },
    "id": "H01Ko86c-Ehp"
   },
   "outputs": [],
   "source": [
    "x_train = x_train.drop('anomaly',axis=1)\n",
    "y_train = y_train.drop('anomaly',axis=1)"
   ]
  },
  {
   "cell_type": "code",
   "execution_count": 236,
   "metadata": {
    "colab": {
     "base_uri": "https://localhost:8080/",
     "height": 519
    },
    "executionInfo": {
     "elapsed": 21,
     "status": "ok",
     "timestamp": 1667738791554,
     "user": {
      "displayName": "Davide",
      "userId": "07926258312875750976"
     },
     "user_tz": -60
    },
    "id": "fNMrthwY9BW3",
    "outputId": "999295b7-9e89-4688-8e4c-0aaaa216a169"
   },
   "outputs": [
    {
     "data": {
      "text/html": [
       "\n",
       "  <div id=\"df-5b0b66f0-8ca0-4bb7-9f57-0c42eaf2c31a\">\n",
       "    <div class=\"colab-df-container\">\n",
       "      <div>\n",
       "<style scoped>\n",
       "    .dataframe tbody tr th:only-of-type {\n",
       "        vertical-align: middle;\n",
       "    }\n",
       "\n",
       "    .dataframe tbody tr th {\n",
       "        vertical-align: top;\n",
       "    }\n",
       "\n",
       "    .dataframe thead th {\n",
       "        text-align: right;\n",
       "    }\n",
       "</style>\n",
       "<table border=\"1\" class=\"dataframe\">\n",
       "  <thead>\n",
       "    <tr style=\"text-align: right;\">\n",
       "      <th></th>\n",
       "      <th>x0</th>\n",
       "      <th>x1</th>\n",
       "      <th>x2</th>\n",
       "      <th>x3</th>\n",
       "      <th>x4</th>\n",
       "      <th>x5</th>\n",
       "      <th>x6</th>\n",
       "      <th>x7</th>\n",
       "      <th>x8</th>\n",
       "      <th>x9</th>\n",
       "      <th>...</th>\n",
       "      <th>isnan_x822</th>\n",
       "      <th>isnan_x823</th>\n",
       "      <th>isnan_x824</th>\n",
       "      <th>isnan_x825</th>\n",
       "      <th>isnan_x826</th>\n",
       "      <th>isnan_x827</th>\n",
       "      <th>isnan_x828</th>\n",
       "      <th>isnan_x829</th>\n",
       "      <th>isnan_x830</th>\n",
       "      <th>isnan_x831</th>\n",
       "    </tr>\n",
       "    <tr>\n",
       "      <th>id</th>\n",
       "      <th></th>\n",
       "      <th></th>\n",
       "      <th></th>\n",
       "      <th></th>\n",
       "      <th></th>\n",
       "      <th></th>\n",
       "      <th></th>\n",
       "      <th></th>\n",
       "      <th></th>\n",
       "      <th></th>\n",
       "      <th></th>\n",
       "      <th></th>\n",
       "      <th></th>\n",
       "      <th></th>\n",
       "      <th></th>\n",
       "      <th></th>\n",
       "      <th></th>\n",
       "      <th></th>\n",
       "      <th></th>\n",
       "      <th></th>\n",
       "      <th></th>\n",
       "    </tr>\n",
       "  </thead>\n",
       "  <tbody>\n",
       "    <tr>\n",
       "      <th>0.0</th>\n",
       "      <td>-0.439786</td>\n",
       "      <td>-0.259312</td>\n",
       "      <td>-0.226678</td>\n",
       "      <td>-0.583575</td>\n",
       "      <td>-0.971490</td>\n",
       "      <td>-0.788129</td>\n",
       "      <td>1.130952</td>\n",
       "      <td>1.293719</td>\n",
       "      <td>1.249786</td>\n",
       "      <td>0.165677</td>\n",
       "      <td>...</td>\n",
       "      <td>3.530817</td>\n",
       "      <td>-0.272888</td>\n",
       "      <td>-0.291632</td>\n",
       "      <td>-0.293294</td>\n",
       "      <td>-0.315941</td>\n",
       "      <td>-0.301511</td>\n",
       "      <td>-0.291632</td>\n",
       "      <td>-0.286606</td>\n",
       "      <td>-0.265841</td>\n",
       "      <td>-0.293294</td>\n",
       "    </tr>\n",
       "    <tr>\n",
       "      <th>1.0</th>\n",
       "      <td>1.160629</td>\n",
       "      <td>-0.444346</td>\n",
       "      <td>1.587980</td>\n",
       "      <td>-0.718887</td>\n",
       "      <td>0.084219</td>\n",
       "      <td>-0.013704</td>\n",
       "      <td>-0.013749</td>\n",
       "      <td>1.147812</td>\n",
       "      <td>-1.427827</td>\n",
       "      <td>1.379006</td>\n",
       "      <td>...</td>\n",
       "      <td>3.530817</td>\n",
       "      <td>-0.272888</td>\n",
       "      <td>-0.291632</td>\n",
       "      <td>-0.293294</td>\n",
       "      <td>-0.315941</td>\n",
       "      <td>-0.301511</td>\n",
       "      <td>-0.291632</td>\n",
       "      <td>3.489114</td>\n",
       "      <td>-0.265841</td>\n",
       "      <td>-0.293294</td>\n",
       "    </tr>\n",
       "    <tr>\n",
       "      <th>2.0</th>\n",
       "      <td>-0.413991</td>\n",
       "      <td>0.078692</td>\n",
       "      <td>-0.625908</td>\n",
       "      <td>2.591201</td>\n",
       "      <td>-1.641252</td>\n",
       "      <td>-0.768303</td>\n",
       "      <td>0.426802</td>\n",
       "      <td>-0.074594</td>\n",
       "      <td>-0.475411</td>\n",
       "      <td>0.749991</td>\n",
       "      <td>...</td>\n",
       "      <td>-0.283221</td>\n",
       "      <td>-0.272888</td>\n",
       "      <td>-0.291632</td>\n",
       "      <td>-0.293294</td>\n",
       "      <td>-0.315941</td>\n",
       "      <td>-0.301511</td>\n",
       "      <td>-0.291632</td>\n",
       "      <td>-0.286606</td>\n",
       "      <td>-0.265841</td>\n",
       "      <td>-0.293294</td>\n",
       "    </tr>\n",
       "    <tr>\n",
       "      <th>3.0</th>\n",
       "      <td>-2.849547</td>\n",
       "      <td>-2.312666</td>\n",
       "      <td>-2.929110</td>\n",
       "      <td>0.047340</td>\n",
       "      <td>-0.074979</td>\n",
       "      <td>0.210041</td>\n",
       "      <td>0.023987</td>\n",
       "      <td>-0.048343</td>\n",
       "      <td>0.150672</td>\n",
       "      <td>0.029593</td>\n",
       "      <td>...</td>\n",
       "      <td>-0.283221</td>\n",
       "      <td>-0.272888</td>\n",
       "      <td>-0.291632</td>\n",
       "      <td>-0.293294</td>\n",
       "      <td>-0.315941</td>\n",
       "      <td>-0.301511</td>\n",
       "      <td>-0.291632</td>\n",
       "      <td>-0.286606</td>\n",
       "      <td>-0.265841</td>\n",
       "      <td>3.409545</td>\n",
       "    </tr>\n",
       "    <tr>\n",
       "      <th>4.0</th>\n",
       "      <td>-0.603835</td>\n",
       "      <td>1.548004</td>\n",
       "      <td>-0.013582</td>\n",
       "      <td>-0.815860</td>\n",
       "      <td>-0.472779</td>\n",
       "      <td>-0.452370</td>\n",
       "      <td>-0.376156</td>\n",
       "      <td>0.870522</td>\n",
       "      <td>0.480380</td>\n",
       "      <td>1.950737</td>\n",
       "      <td>...</td>\n",
       "      <td>-0.283221</td>\n",
       "      <td>-0.272888</td>\n",
       "      <td>3.428979</td>\n",
       "      <td>3.409545</td>\n",
       "      <td>-0.315941</td>\n",
       "      <td>-0.301511</td>\n",
       "      <td>-0.291632</td>\n",
       "      <td>-0.286606</td>\n",
       "      <td>-0.265841</td>\n",
       "      <td>-0.293294</td>\n",
       "    </tr>\n",
       "    <tr>\n",
       "      <th>...</th>\n",
       "      <td>...</td>\n",
       "      <td>...</td>\n",
       "      <td>...</td>\n",
       "      <td>...</td>\n",
       "      <td>...</td>\n",
       "      <td>...</td>\n",
       "      <td>...</td>\n",
       "      <td>...</td>\n",
       "      <td>...</td>\n",
       "      <td>...</td>\n",
       "      <td>...</td>\n",
       "      <td>...</td>\n",
       "      <td>...</td>\n",
       "      <td>...</td>\n",
       "      <td>...</td>\n",
       "      <td>...</td>\n",
       "      <td>...</td>\n",
       "      <td>...</td>\n",
       "      <td>...</td>\n",
       "      <td>...</td>\n",
       "      <td>...</td>\n",
       "    </tr>\n",
       "    <tr>\n",
       "      <th>1207.0</th>\n",
       "      <td>1.584535</td>\n",
       "      <td>1.771847</td>\n",
       "      <td>0.859382</td>\n",
       "      <td>1.467335</td>\n",
       "      <td>1.621723</td>\n",
       "      <td>-0.234101</td>\n",
       "      <td>1.303750</td>\n",
       "      <td>1.064966</td>\n",
       "      <td>1.644260</td>\n",
       "      <td>0.965497</td>\n",
       "      <td>...</td>\n",
       "      <td>-0.283221</td>\n",
       "      <td>-0.272888</td>\n",
       "      <td>-0.291632</td>\n",
       "      <td>-0.293294</td>\n",
       "      <td>-0.315941</td>\n",
       "      <td>-0.301511</td>\n",
       "      <td>-0.291632</td>\n",
       "      <td>-0.286606</td>\n",
       "      <td>3.761649</td>\n",
       "      <td>-0.293294</td>\n",
       "    </tr>\n",
       "    <tr>\n",
       "      <th>1208.0</th>\n",
       "      <td>0.871252</td>\n",
       "      <td>0.825791</td>\n",
       "      <td>0.065727</td>\n",
       "      <td>-0.159055</td>\n",
       "      <td>-1.668130</td>\n",
       "      <td>1.080184</td>\n",
       "      <td>1.050000</td>\n",
       "      <td>-1.027606</td>\n",
       "      <td>0.721307</td>\n",
       "      <td>0.176938</td>\n",
       "      <td>...</td>\n",
       "      <td>-0.283221</td>\n",
       "      <td>-0.272888</td>\n",
       "      <td>-0.291632</td>\n",
       "      <td>-0.293294</td>\n",
       "      <td>-0.315941</td>\n",
       "      <td>-0.301511</td>\n",
       "      <td>-0.291632</td>\n",
       "      <td>-0.286606</td>\n",
       "      <td>-0.265841</td>\n",
       "      <td>-0.293294</td>\n",
       "    </tr>\n",
       "    <tr>\n",
       "      <th>1209.0</th>\n",
       "      <td>-0.397020</td>\n",
       "      <td>-1.073375</td>\n",
       "      <td>0.385426</td>\n",
       "      <td>0.208204</td>\n",
       "      <td>-0.886469</td>\n",
       "      <td>0.484223</td>\n",
       "      <td>-0.907064</td>\n",
       "      <td>0.545211</td>\n",
       "      <td>0.495767</td>\n",
       "      <td>0.070529</td>\n",
       "      <td>...</td>\n",
       "      <td>-0.283221</td>\n",
       "      <td>-0.272888</td>\n",
       "      <td>-0.291632</td>\n",
       "      <td>-0.293294</td>\n",
       "      <td>-0.315941</td>\n",
       "      <td>-0.301511</td>\n",
       "      <td>3.428979</td>\n",
       "      <td>-0.286606</td>\n",
       "      <td>-0.265841</td>\n",
       "      <td>-0.293294</td>\n",
       "    </tr>\n",
       "    <tr>\n",
       "      <th>1210.0</th>\n",
       "      <td>-0.110510</td>\n",
       "      <td>0.017682</td>\n",
       "      <td>-0.589630</td>\n",
       "      <td>0.073195</td>\n",
       "      <td>0.566934</td>\n",
       "      <td>-1.631518</td>\n",
       "      <td>0.344308</td>\n",
       "      <td>-1.480279</td>\n",
       "      <td>-0.341962</td>\n",
       "      <td>-1.828920</td>\n",
       "      <td>...</td>\n",
       "      <td>-0.283221</td>\n",
       "      <td>-0.272888</td>\n",
       "      <td>-0.291632</td>\n",
       "      <td>-0.293294</td>\n",
       "      <td>-0.315941</td>\n",
       "      <td>-0.301511</td>\n",
       "      <td>-0.291632</td>\n",
       "      <td>-0.286606</td>\n",
       "      <td>-0.265841</td>\n",
       "      <td>-0.293294</td>\n",
       "    </tr>\n",
       "    <tr>\n",
       "      <th>1211.0</th>\n",
       "      <td>-0.079783</td>\n",
       "      <td>0.355327</td>\n",
       "      <td>-0.709158</td>\n",
       "      <td>0.039099</td>\n",
       "      <td>1.081948</td>\n",
       "      <td>0.116963</td>\n",
       "      <td>0.773507</td>\n",
       "      <td>0.781965</td>\n",
       "      <td>0.527807</td>\n",
       "      <td>0.627128</td>\n",
       "      <td>...</td>\n",
       "      <td>-0.283221</td>\n",
       "      <td>-0.272888</td>\n",
       "      <td>-0.291632</td>\n",
       "      <td>-0.293294</td>\n",
       "      <td>-0.315941</td>\n",
       "      <td>-0.301511</td>\n",
       "      <td>-0.291632</td>\n",
       "      <td>-0.286606</td>\n",
       "      <td>-0.265841</td>\n",
       "      <td>-0.293294</td>\n",
       "    </tr>\n",
       "  </tbody>\n",
       "</table>\n",
       "<p>969 rows × 1656 columns</p>\n",
       "</div>\n",
       "      <button class=\"colab-df-convert\" onclick=\"convertToInteractive('df-5b0b66f0-8ca0-4bb7-9f57-0c42eaf2c31a')\"\n",
       "              title=\"Convert this dataframe to an interactive table.\"\n",
       "              style=\"display:none;\">\n",
       "        \n",
       "  <svg xmlns=\"http://www.w3.org/2000/svg\" height=\"24px\"viewBox=\"0 0 24 24\"\n",
       "       width=\"24px\">\n",
       "    <path d=\"M0 0h24v24H0V0z\" fill=\"none\"/>\n",
       "    <path d=\"M18.56 5.44l.94 2.06.94-2.06 2.06-.94-2.06-.94-.94-2.06-.94 2.06-2.06.94zm-11 1L8.5 8.5l.94-2.06 2.06-.94-2.06-.94L8.5 2.5l-.94 2.06-2.06.94zm10 10l.94 2.06.94-2.06 2.06-.94-2.06-.94-.94-2.06-.94 2.06-2.06.94z\"/><path d=\"M17.41 7.96l-1.37-1.37c-.4-.4-.92-.59-1.43-.59-.52 0-1.04.2-1.43.59L10.3 9.45l-7.72 7.72c-.78.78-.78 2.05 0 2.83L4 21.41c.39.39.9.59 1.41.59.51 0 1.02-.2 1.41-.59l7.78-7.78 2.81-2.81c.8-.78.8-2.07 0-2.86zM5.41 20L4 18.59l7.72-7.72 1.47 1.35L5.41 20z\"/>\n",
       "  </svg>\n",
       "      </button>\n",
       "      \n",
       "  <style>\n",
       "    .colab-df-container {\n",
       "      display:flex;\n",
       "      flex-wrap:wrap;\n",
       "      gap: 12px;\n",
       "    }\n",
       "\n",
       "    .colab-df-convert {\n",
       "      background-color: #E8F0FE;\n",
       "      border: none;\n",
       "      border-radius: 50%;\n",
       "      cursor: pointer;\n",
       "      display: none;\n",
       "      fill: #1967D2;\n",
       "      height: 32px;\n",
       "      padding: 0 0 0 0;\n",
       "      width: 32px;\n",
       "    }\n",
       "\n",
       "    .colab-df-convert:hover {\n",
       "      background-color: #E2EBFA;\n",
       "      box-shadow: 0px 1px 2px rgba(60, 64, 67, 0.3), 0px 1px 3px 1px rgba(60, 64, 67, 0.15);\n",
       "      fill: #174EA6;\n",
       "    }\n",
       "\n",
       "    [theme=dark] .colab-df-convert {\n",
       "      background-color: #3B4455;\n",
       "      fill: #D2E3FC;\n",
       "    }\n",
       "\n",
       "    [theme=dark] .colab-df-convert:hover {\n",
       "      background-color: #434B5C;\n",
       "      box-shadow: 0px 1px 3px 1px rgba(0, 0, 0, 0.15);\n",
       "      filter: drop-shadow(0px 1px 2px rgba(0, 0, 0, 0.3));\n",
       "      fill: #FFFFFF;\n",
       "    }\n",
       "  </style>\n",
       "\n",
       "      <script>\n",
       "        const buttonEl =\n",
       "          document.querySelector('#df-5b0b66f0-8ca0-4bb7-9f57-0c42eaf2c31a button.colab-df-convert');\n",
       "        buttonEl.style.display =\n",
       "          google.colab.kernel.accessAllowed ? 'block' : 'none';\n",
       "\n",
       "        async function convertToInteractive(key) {\n",
       "          const element = document.querySelector('#df-5b0b66f0-8ca0-4bb7-9f57-0c42eaf2c31a');\n",
       "          const dataTable =\n",
       "            await google.colab.kernel.invokeFunction('convertToInteractive',\n",
       "                                                     [key], {});\n",
       "          if (!dataTable) return;\n",
       "\n",
       "          const docLinkHtml = 'Like what you see? Visit the ' +\n",
       "            '<a target=\"_blank\" href=https://colab.research.google.com/notebooks/data_table.ipynb>data table notebook</a>'\n",
       "            + ' to learn more about interactive tables.';\n",
       "          element.innerHTML = '';\n",
       "          dataTable['output_type'] = 'display_data';\n",
       "          await google.colab.output.renderOutput(dataTable, element);\n",
       "          const docLink = document.createElement('div');\n",
       "          docLink.innerHTML = docLinkHtml;\n",
       "          element.appendChild(docLink);\n",
       "        }\n",
       "      </script>\n",
       "    </div>\n",
       "  </div>\n",
       "  "
      ],
      "text/plain": [
       "              x0        x1        x2        x3        x4        x5        x6  \\\n",
       "id                                                                             \n",
       "0.0    -0.439786 -0.259312 -0.226678 -0.583575 -0.971490 -0.788129  1.130952   \n",
       "1.0     1.160629 -0.444346  1.587980 -0.718887  0.084219 -0.013704 -0.013749   \n",
       "2.0    -0.413991  0.078692 -0.625908  2.591201 -1.641252 -0.768303  0.426802   \n",
       "3.0    -2.849547 -2.312666 -2.929110  0.047340 -0.074979  0.210041  0.023987   \n",
       "4.0    -0.603835  1.548004 -0.013582 -0.815860 -0.472779 -0.452370 -0.376156   \n",
       "...          ...       ...       ...       ...       ...       ...       ...   \n",
       "1207.0  1.584535  1.771847  0.859382  1.467335  1.621723 -0.234101  1.303750   \n",
       "1208.0  0.871252  0.825791  0.065727 -0.159055 -1.668130  1.080184  1.050000   \n",
       "1209.0 -0.397020 -1.073375  0.385426  0.208204 -0.886469  0.484223 -0.907064   \n",
       "1210.0 -0.110510  0.017682 -0.589630  0.073195  0.566934 -1.631518  0.344308   \n",
       "1211.0 -0.079783  0.355327 -0.709158  0.039099  1.081948  0.116963  0.773507   \n",
       "\n",
       "              x7        x8        x9  ...  isnan_x822  isnan_x823  isnan_x824  \\\n",
       "id                                    ...                                       \n",
       "0.0     1.293719  1.249786  0.165677  ...    3.530817   -0.272888   -0.291632   \n",
       "1.0     1.147812 -1.427827  1.379006  ...    3.530817   -0.272888   -0.291632   \n",
       "2.0    -0.074594 -0.475411  0.749991  ...   -0.283221   -0.272888   -0.291632   \n",
       "3.0    -0.048343  0.150672  0.029593  ...   -0.283221   -0.272888   -0.291632   \n",
       "4.0     0.870522  0.480380  1.950737  ...   -0.283221   -0.272888    3.428979   \n",
       "...          ...       ...       ...  ...         ...         ...         ...   \n",
       "1207.0  1.064966  1.644260  0.965497  ...   -0.283221   -0.272888   -0.291632   \n",
       "1208.0 -1.027606  0.721307  0.176938  ...   -0.283221   -0.272888   -0.291632   \n",
       "1209.0  0.545211  0.495767  0.070529  ...   -0.283221   -0.272888   -0.291632   \n",
       "1210.0 -1.480279 -0.341962 -1.828920  ...   -0.283221   -0.272888   -0.291632   \n",
       "1211.0  0.781965  0.527807  0.627128  ...   -0.283221   -0.272888   -0.291632   \n",
       "\n",
       "        isnan_x825  isnan_x826  isnan_x827  isnan_x828  isnan_x829  \\\n",
       "id                                                                   \n",
       "0.0      -0.293294   -0.315941   -0.301511   -0.291632   -0.286606   \n",
       "1.0      -0.293294   -0.315941   -0.301511   -0.291632    3.489114   \n",
       "2.0      -0.293294   -0.315941   -0.301511   -0.291632   -0.286606   \n",
       "3.0      -0.293294   -0.315941   -0.301511   -0.291632   -0.286606   \n",
       "4.0       3.409545   -0.315941   -0.301511   -0.291632   -0.286606   \n",
       "...            ...         ...         ...         ...         ...   \n",
       "1207.0   -0.293294   -0.315941   -0.301511   -0.291632   -0.286606   \n",
       "1208.0   -0.293294   -0.315941   -0.301511   -0.291632   -0.286606   \n",
       "1209.0   -0.293294   -0.315941   -0.301511    3.428979   -0.286606   \n",
       "1210.0   -0.293294   -0.315941   -0.301511   -0.291632   -0.286606   \n",
       "1211.0   -0.293294   -0.315941   -0.301511   -0.291632   -0.286606   \n",
       "\n",
       "        isnan_x830  isnan_x831  \n",
       "id                              \n",
       "0.0      -0.265841   -0.293294  \n",
       "1.0      -0.265841   -0.293294  \n",
       "2.0      -0.265841   -0.293294  \n",
       "3.0      -0.265841    3.409545  \n",
       "4.0      -0.265841   -0.293294  \n",
       "...            ...         ...  \n",
       "1207.0    3.761649   -0.293294  \n",
       "1208.0   -0.265841   -0.293294  \n",
       "1209.0   -0.265841   -0.293294  \n",
       "1210.0   -0.265841   -0.293294  \n",
       "1211.0   -0.265841   -0.293294  \n",
       "\n",
       "[969 rows x 1656 columns]"
      ]
     },
     "execution_count": 236,
     "metadata": {},
     "output_type": "execute_result"
    }
   ],
   "source": [
    "x_train"
   ]
  },
  {
   "cell_type": "code",
   "execution_count": 237,
   "metadata": {
    "colab": {
     "base_uri": "https://localhost:8080/"
    },
    "executionInfo": {
     "elapsed": 19,
     "status": "ok",
     "timestamp": 1667738791555,
     "user": {
      "displayName": "Davide",
      "userId": "07926258312875750976"
     },
     "user_tz": -60
    },
    "id": "koeOPokm9GNj",
    "outputId": "1dfd6fde-19a8-44fe-f65b-49767216c6bf"
   },
   "outputs": [
    {
     "data": {
      "text/plain": [
       "969"
      ]
     },
     "execution_count": 237,
     "metadata": {},
     "output_type": "execute_result"
    }
   ],
   "source": [
    "y_train.size"
   ]
  },
  {
   "cell_type": "code",
   "execution_count": 238,
   "metadata": {
    "executionInfo": {
     "elapsed": 15,
     "status": "ok",
     "timestamp": 1667738791555,
     "user": {
      "displayName": "Davide",
      "userId": "07926258312875750976"
     },
     "user_tz": -60
    },
    "id": "G4cdQegdsmwA"
   },
   "outputs": [],
   "source": [
    "# %%time\n",
    "# from sklearn.gaussian_process import GaussianProcessRegressor\n",
    "# from sklearn.gaussian_process.kernels import RBF\n",
    "# trained_model = GaussianProcessRegressor(kernel = RBF())\n",
    "# for _ in range(y_train.size):\n",
    "#   trained_model.fit(x_train, y_train)\n",
    "#   importances = trained_model.feature_importances_\n",
    "#   std = np.std([trained_model.feature_importances_ for trained_model in trained_model.estimators_], axis=0)\n",
    "#   indices = np.argsort(importances)[::-1]"
   ]
  },
  {
   "cell_type": "code",
   "execution_count": null,
   "metadata": {},
   "outputs": [],
   "source": [
    "from sklearn.feature_selection import RFE\n"
   ]
  },
  {
   "cell_type": "code",
   "execution_count": 239,
   "metadata": {
    "executionInfo": {
     "elapsed": 505,
     "status": "ok",
     "timestamp": 1667738792046,
     "user": {
      "displayName": "Davide",
      "userId": "07926258312875750976"
     },
     "user_tz": -60
    },
    "id": "tR5Fq2HeyPcO"
   },
   "outputs": [],
   "source": [
    "# selector = VarianceThreshold()\n",
    "# x_train_tmp = selector.fit_transform(X,y)\n",
    "\n",
    "selector = SelectKBest(f_regression, k=80)\n",
    "selector.fit(np.array(x_train), np.array(y_train).squeeze())\n",
    "cols = selector.get_support(indices=True)\n",
    "x_train = x_train.iloc[:,cols]\n",
    "x_test = x_test.iloc[:,cols]\n",
    "\n",
    "#dataset_selected_x\n"
   ]
  },
  {
   "cell_type": "code",
   "execution_count": 240,
   "metadata": {
    "executionInfo": {
     "elapsed": 7,
     "status": "ok",
     "timestamp": 1667738792046,
     "user": {
      "displayName": "Davide",
      "userId": "07926258312875750976"
     },
     "user_tz": -60
    },
    "id": "76YaPpTuyPcO"
   },
   "outputs": [],
   "source": [
    "#new_X.describe()"
   ]
  },
  {
   "cell_type": "code",
   "execution_count": 241,
   "metadata": {
    "executionInfo": {
     "elapsed": 7,
     "status": "ok",
     "timestamp": 1667738792047,
     "user": {
      "displayName": "Davide",
      "userId": "07926258312875750976"
     },
     "user_tz": -60
    },
    "id": "X4wna0VjyPcO"
   },
   "outputs": [],
   "source": [
    "#x_train_tmp = pd.DataFrame()"
   ]
  },
  {
   "cell_type": "code",
   "execution_count": 242,
   "metadata": {
    "executionInfo": {
     "elapsed": 6,
     "status": "ok",
     "timestamp": 1667738792047,
     "user": {
      "displayName": "Davide",
      "userId": "07926258312875750976"
     },
     "user_tz": -60
    },
    "id": "9kT0D5v0yPcO"
   },
   "outputs": [],
   "source": [
    "# fsel = FeatureSelector(\n",
    "#         problem_type='regression',\n",
    "#         featsel_runs=10,\n",
    "#         keep=None,\n",
    "#         n_jobs=-1,\n",
    "#         verbose=1,)\n",
    "\n",
    "# new_X = fsel.fit_transform(x_train_tmp, y)\n",
    "# autofeat_cols = new_X.columns.values\n",
    "# autofeat_cols"
   ]
  },
  {
   "cell_type": "code",
   "execution_count": 243,
   "metadata": {
    "executionInfo": {
     "elapsed": 5,
     "status": "ok",
     "timestamp": 1667738792047,
     "user": {
      "displayName": "Davide",
      "userId": "07926258312875750976"
     },
     "user_tz": -60
    },
    "id": "iJnc0r2byPcP"
   },
   "outputs": [],
   "source": [
    "# for j in range(832):\n",
    "#         if j in accepted:\n",
    "#           print (j)\n",
    "#         else:\n",
    "#           del dataset_selected_x[str(j)]\n",
    "#dataset_selected_x = dataset_selected_x.iloc[:,cols]\n",
    "# train_stats = dataset_selected_x.describe()\n",
    "# train_stats = train_stats.transpose()\n",
    "#dataset_selected_x"
   ]
  },
  {
   "cell_type": "code",
   "execution_count": null,
   "metadata": {
    "executionInfo": {
     "elapsed": 365,
     "status": "ok",
     "timestamp": 1667738792407,
     "user": {
      "displayName": "Davide",
      "userId": "07926258312875750976"
     },
     "user_tz": -60
    },
    "id": "pe880TruyPcP"
   },
   "outputs": [],
   "source": [
    "x_train.to_csv(preprocessed + 'X_train_preprocessed.csv',index_label=\"id\")\n",
    "x_test.to_csv(preprocessed + 'X_test_preprocessed.csv',index_label=\"id\")\n",
    "y_train.to_csv(preprocessed + 'y_train_preprocessed.csv',index_label=\"id\")\n",
    "y_test.to_csv(preprocessed + 'y_test_preprocessed.csv',index_label=\"id\")"
   ]
  },
  {
   "cell_type": "code",
   "execution_count": 245,
   "metadata": {
    "colab": {
     "base_uri": "https://localhost:8080/"
    },
    "executionInfo": {
     "elapsed": 10,
     "status": "ok",
     "timestamp": 1667738792408,
     "user": {
      "displayName": "Davide",
      "userId": "07926258312875750976"
     },
     "user_tz": -60
    },
    "id": "20ORR4ND68ts",
    "outputId": "ef95b999-ecb0-4226-b5a7-ad68664c54fb"
   },
   "outputs": [
    {
     "data": {
      "text/plain": [
       "Index(['x23', 'x27', 'x107', 'x113', 'x115', 'x133', 'x146', 'x159', 'x172',\n",
       "       'x194', 'x200', 'x203', 'x209', 'x213', 'x214', 'x231', 'x233', 'x242',\n",
       "       'x254', 'x276', 'x286', 'x287', 'x306', 'x309', 'x310', 'x315', 'x319',\n",
       "       'x320', 'x325', 'x327', 'x334', 'x349', 'x362', 'x399', 'x410', 'x415',\n",
       "       'x437', 'x440', 'x445', 'x452', 'x458', 'x465', 'x484', 'x485', 'x496',\n",
       "       'x507', 'x517', 'x531', 'x538', 'x542', 'x543', 'x546', 'x558', 'x571',\n",
       "       'x594', 'x612', 'x613', 'x633', 'x640', 'x641', 'x654', 'x657', 'x671',\n",
       "       'x672', 'x675', 'x681', 'x690', 'x702', 'x711', 'x712', 'x720', 'x721',\n",
       "       'x734', 'x745', 'x748', 'x766', 'x769', 'x777', 'x801', 'x817'],\n",
       "      dtype='object')"
      ]
     },
     "execution_count": 245,
     "metadata": {},
     "output_type": "execute_result"
    }
   ],
   "source": [
    "x_train.columns"
   ]
  }
 ],
 "metadata": {
  "colab": {
   "collapsed_sections": [],
   "provenance": [
    {
     "file_id": "1eZl1PYsEObRje6ZFEtA2DeVZGzaRKP8i",
     "timestamp": 1667677507929
    }
   ]
  },
  "kernelspec": {
   "display_name": "Python 3 (ipykernel)",
   "language": "python",
   "name": "python3"
  },
  "language_info": {
   "codemirror_mode": {
    "name": "ipython",
    "version": 3
   },
   "file_extension": ".py",
   "mimetype": "text/x-python",
   "name": "python",
   "nbconvert_exporter": "python",
   "pygments_lexer": "ipython3",
   "version": "3.8.13"
  },
  "vscode": {
   "interpreter": {
    "hash": "ca524ed4827e9cecae6a739c853fefb0a41e3c247e14c2213a90934a563a4762"
   }
  }
 },
 "nbformat": 4,
 "nbformat_minor": 1
}
